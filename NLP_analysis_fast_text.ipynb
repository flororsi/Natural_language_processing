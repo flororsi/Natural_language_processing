{
  "nbformat": 4,
  "nbformat_minor": 0,
  "metadata": {
    "colab": {
      "name": "NLP_analysis_fast_text.ipynb",
      "provenance": [],
      "collapsed_sections": [],
      "mount_file_id": "1gLN4AUC9_ApX1a8WX-lP4M7KHjDsxTv3",
      "authorship_tag": "ABX9TyP9FLyjZ2sC2BJw/+urI15+",
      "include_colab_link": true
    },
    "kernelspec": {
      "name": "python3",
      "display_name": "Python 3"
    }
  },
  "cells": [
    {
      "cell_type": "markdown",
      "metadata": {
        "id": "view-in-github",
        "colab_type": "text"
      },
      "source": [
        "<a href=\"https://colab.research.google.com/github/flororsi/Natural_language_processing/blob/main/NLP_analysis_fast_text.ipynb\" target=\"_parent\"><img src=\"https://colab.research.google.com/assets/colab-badge.svg\" alt=\"Open In Colab\"/></a>"
      ]
    },
    {
      "cell_type": "code",
      "metadata": {
        "id": "lsmydz61qg41",
        "outputId": "931bb55c-59e2-402e-b115-ade09007df0c",
        "colab": {
          "base_uri": "https://localhost:8080/",
          "height": 143
        }
      },
      "source": [
        "pip install wikipedia"
      ],
      "execution_count": null,
      "outputs": [
        {
          "output_type": "stream",
          "text": [
            "Requirement already satisfied: wikipedia in /usr/local/lib/python3.6/dist-packages (1.4.0)\n",
            "Requirement already satisfied: requests<3.0.0,>=2.0.0 in /usr/local/lib/python3.6/dist-packages (from wikipedia) (2.23.0)\n",
            "Requirement already satisfied: beautifulsoup4 in /usr/local/lib/python3.6/dist-packages (from wikipedia) (4.6.3)\n",
            "Requirement already satisfied: urllib3!=1.25.0,!=1.25.1,<1.26,>=1.21.1 in /usr/local/lib/python3.6/dist-packages (from requests<3.0.0,>=2.0.0->wikipedia) (1.24.3)\n",
            "Requirement already satisfied: chardet<4,>=3.0.2 in /usr/local/lib/python3.6/dist-packages (from requests<3.0.0,>=2.0.0->wikipedia) (3.0.4)\n",
            "Requirement already satisfied: certifi>=2017.4.17 in /usr/local/lib/python3.6/dist-packages (from requests<3.0.0,>=2.0.0->wikipedia) (2020.6.20)\n",
            "Requirement already satisfied: idna<3,>=2.5 in /usr/local/lib/python3.6/dist-packages (from requests<3.0.0,>=2.0.0->wikipedia) (2.10)\n"
          ],
          "name": "stdout"
        }
      ]
    },
    {
      "cell_type": "code",
      "metadata": {
        "id": "BrQZvofCtwjN",
        "outputId": "260a54ba-daae-4715-d26a-e257a69ceb1f",
        "colab": {
          "base_uri": "https://localhost:8080/",
          "height": 125
        }
      },
      "source": [
        "from keras.preprocessing.text import Tokenizer\n",
        "from gensim.models.fasttext import FastText\n",
        "import numpy as np\n",
        "import matplotlib.pyplot as plt\n",
        "import nltk\n",
        "from string import punctuation\n",
        "from nltk.corpus import stopwords\n",
        "from nltk.tokenize import word_tokenize\n",
        "from nltk.stem import WordNetLemmatizer\n",
        "from nltk.tokenize import sent_tokenize\n",
        "from nltk import WordPunctTokenizer\n",
        "\n",
        "import wikipedia\n",
        "import nltk\n",
        "nltk.download('punkt')\n",
        "nltk.download('wordnet')\n",
        "nltk.download('stopwords')\n",
        "en_stop = set(nltk.corpus.stopwords.words('english'))\n",
        "\n",
        "%matplotlib inline"
      ],
      "execution_count": null,
      "outputs": [
        {
          "output_type": "stream",
          "text": [
            "[nltk_data] Downloading package punkt to /root/nltk_data...\n",
            "[nltk_data]   Package punkt is already up-to-date!\n",
            "[nltk_data] Downloading package wordnet to /root/nltk_data...\n",
            "[nltk_data]   Package wordnet is already up-to-date!\n",
            "[nltk_data] Downloading package stopwords to /root/nltk_data...\n",
            "[nltk_data]   Package stopwords is already up-to-date!\n"
          ],
          "name": "stdout"
        }
      ]
    },
    {
      "cell_type": "code",
      "metadata": {
        "id": "XWdkAQy1uUe4",
        "outputId": "3ed81845-9540-4e2a-98e4-ef67df7bf041",
        "colab": {
          "base_uri": "https://localhost:8080/",
          "height": 1000
        }
      },
      "source": [
        "artificial_intelligence = wikipedia.page(\"Artificial Intelligence\").content\n",
        "machine_learning = wikipedia.page(\"Machine Learning\").content\n",
        "deep_learning = wikipedia.page(\"Deep Learning\").content\n",
        "neural_network = wikipedia.page(\"Neural Network\").content\n",
        "print(deep_learning)\n",
        "\n",
        "artificial_intelligence = sent_tokenize(artificial_intelligence)\n",
        "machine_learning = sent_tokenize(machine_learning)\n",
        "deep_learning = sent_tokenize(deep_learning)\n",
        "neural_network = sent_tokenize(neural_network)\n",
        "\n",
        "artificial_intelligence.extend(machine_learning)\n",
        "artificial_intelligence.extend(deep_learning)\n",
        "artificial_intelligence.extend(neural_network)"
      ],
      "execution_count": null,
      "outputs": [
        {
          "output_type": "stream",
          "text": [
            "Deep learning  (also known as deep structured learning) is part of a broader family of machine learning methods based on artificial neural networks with representation learning. Learning can be supervised, semi-supervised or unsupervised.Deep learning architectures such as deep neural networks, deep belief networks, recurrent neural networks and convolutional neural networks have been applied to fields including computer vision, machine vision, speech recognition, natural language processing, audio recognition, social network filtering, machine translation, bioinformatics, drug design, medical image analysis, material inspection and board game programs, where they have produced results comparable to and in some cases surpassing human expert performance.Artificial neural networks (ANNs) were inspired by information processing and distributed communication nodes in biological systems. ANNs have various differences from biological brains.  Specifically, neural networks tend to be static and symbolic, while the biological brain of most living organisms is dynamic (plastic) and analog.The adjective \"deep\" in deep learning comes from the use of multiple layers in the network. Early work showed that a linear perceptron cannot be a universal classifier, and then that a network with a nonpolynomial activation function with one hidden layer of unbounded width can on the other hand so be. Deep learning is a modern variation which is concerned with an unbounded number of layers of bounded size, which permits practical application and optimized implementation, while retaining theoretical universality under mild conditions. In deep learning the layers are also permitted to be heterogeneous and to deviate widely from biologically informed connectionist models, for the sake of efficiency, trainability and understandability, whence the \"structured\" part.\n",
            "\n",
            "\n",
            "== Definition ==\n",
            "\n",
            "Deep learning is a class of machine learning algorithms that uses multiple layers to progressively extract higher level features from the raw input. For example, in image processing, lower layers may identify edges, while higher layers may identify the concepts relevant to a human such as digits or letters or faces.\n",
            "\n",
            "\n",
            "== Overview ==\n",
            "Most modern deep learning models are based on artificial neural networks, specifically, Convolutional Neural Networks (CNN)s, although they can also include propositional formulas or latent variables organized layer-wise in deep generative models such as the nodes in deep belief networks and deep Boltzmann machines.In deep learning, each level learns to transform its input data into a slightly more abstract and composite representation. In an image recognition application, the raw input may be a matrix of pixels; the first representational layer may abstract the pixels and encode edges; the second layer may compose and encode arrangements of edges; the third layer may encode a nose and eyes; and the fourth layer may recognize that the image contains a face. Importantly, a deep learning process can learn which features to optimally place in which level on its own. (Of course, this does not completely eliminate the need for hand-tuning; for example, varying numbers of layers and layer sizes can provide different degrees of abstraction.)The word \"deep\" in \"deep learning\" refers to the number of layers through which the data is transformed. More precisely, deep learning systems have a substantial credit assignment path (CAP) depth. The CAP is the chain of transformations from input to output. CAPs describe potentially causal connections between input and output. For a feedforward neural network, the depth of the CAPs is that of the network and is the number of hidden layers plus one (as the output layer is also parameterized). For recurrent neural networks, in which a signal may propagate through a layer more than once, the CAP depth is potentially unlimited. No universally agreed upon threshold of depth divides shallow learning from deep learning, but most researchers agree that deep learning involves CAP depth higher than 2. CAP of depth 2 has been shown to be a universal approximator in the sense that it can emulate any function. Beyond that, more layers do not add to the function approximator ability of the network. Deep models (CAP > 2) are able to extract better features than shallow models and hence, extra layers help in learning the features effectively.\n",
            "Deep learning architectures can be constructed with a greedy layer-by-layer method. Deep learning helps to disentangle these abstractions and pick out which features improve performance.For supervised learning tasks, deep learning methods eliminate feature engineering, by translating the data into compact intermediate representations akin to principal components, and derive layered structures that remove redundancy in representation.\n",
            "Deep learning algorithms can be applied to unsupervised learning tasks. This is an important benefit because unlabeled data are more abundant than the labeled data. Examples of deep structures that can be trained in an unsupervised manner are neural history compressors and deep belief networks.\n",
            "\n",
            "\n",
            "== Interpretations ==\n",
            "Deep neural networks are generally interpreted in terms of the universal approximation theorem or probabilistic inference.The classic universal approximation theorem concerns the capacity of feedforward neural networks with a single hidden layer of finite size to approximate continuous functions. In 1989, the first proof was published by George Cybenko for sigmoid activation functions and was generalised to feed-forward multi-layer architectures in 1991 by Kurt Hornik. Recent work also showed that universal approximation also holds for non-bounded activation functions such as the rectified linear unit.The universal approximation theorem for deep neural networks concerns the capacity of networks with bounded width but the depth is allowed to grow. Lu et al. proved that if the width of a deep neural network with ReLU activation is strictly larger than the input dimension, then the network can approximate any Lebesgue integrable function; If the width is smaller or equal to the input dimension, then deep neural network is not a universal approximator.\n",
            "The probabilistic interpretation derives from the field of machine learning. It features inference, as well as the optimization concepts of training and testing, related to fitting and generalization, respectively. More specifically, the probabilistic interpretation considers the activation nonlinearity as a cumulative distribution function. The probabilistic interpretation led to the introduction of dropout as regularizer in neural networks. The probabilistic interpretation was introduced by researchers including Hopfield, Widrow and Narendra and popularized in surveys such as the one by Bishop.\n",
            "\n",
            "\n",
            "== History ==\n",
            "The first general, working learning algorithm for supervised, deep, feedforward, multilayer perceptrons was published by Alexey Ivakhnenko and Lapa in 1967. A 1971 paper described a deep network with eight layers trained by the group method of data handling. Other deep learning working architectures, specifically those built for computer vision, began with the Neocognitron introduced by Kunihiko Fukushima in 1980.The term Deep Learning was introduced to the machine learning community by Rina Dechter in 1986, and to artificial neural networks by Igor Aizenberg and colleagues in 2000, in the context of Boolean threshold neurons.In 1989, Yann LeCun et al. applied the standard backpropagation algorithm, which had been around as the reverse mode of automatic differentiation since 1970, to a deep neural network with the purpose of recognizing handwritten ZIP codes on mail. While the algorithm worked, training required 3 days.By 1991 such systems were used for recognizing isolated 2-D hand-written digits, while recognizing 3-D objects was done by matching 2-D images with a handcrafted 3-D object model. Weng et al. suggested that a human brain does not use a monolithic 3-D object model and in 1992 they published Cresceptron, a method for performing 3-D object recognition in cluttered scenes. Because it directly used natural images, Cresceptron started the beginning of general-purpose visual learning for natural 3D worlds. Cresceptron is a cascade of layers similar to Neocognitron. But while Neocognitron required a human programmer to hand-merge features, Cresceptron learned an open number of features in each layer without supervision, where each feature is represented by a convolution kernel. Cresceptron segmented each learned object from a cluttered scene through back-analysis through the network. Max pooling, now often adopted by deep neural networks (e.g. ImageNet tests), was first used in Cresceptron to reduce the position resolution by a factor of (2x2) to 1 through the cascade for better generalization.\n",
            "In 1994, André de Carvalho, together with Mike Fairhurst and David Bisset, published experimental results of a multi-layer boolean neural network, also known as a weightless neural network, composed of a 3-layers self-organising feature extraction neural network module (SOFT) followed by a multi-layer classification neural network module (GSN), which were independently trained. Each layer in the feature extraction module extracted features with growing complexity regarding the previous layer.In 1995, Brendan Frey demonstrated that it was possible to train (over two days) a network containing six fully connected layers and several hundred hidden units using the wake-sleep algorithm, co-developed with Peter Dayan and Hinton. Many factors contribute to the slow speed, including the vanishing gradient problem analyzed in 1991 by Sepp Hochreiter.Simpler models that use task-specific handcrafted features such as Gabor filters and support vector machines (SVMs) were a popular choice in the 1990s and 2000s, because of artificial neural network's (ANN) computational cost and a lack of understanding of how the brain wires its biological networks.\n",
            "Both shallow and deep learning (e.g., recurrent nets) of ANNs have been explored for many years. These methods never outperformed non-uniform internal-handcrafting Gaussian mixture model/Hidden Markov model (GMM-HMM) technology based on generative models of speech trained discriminatively. Key difficulties have been analyzed, including gradient diminishing and weak temporal correlation structure in neural predictive models. Additional difficulties were the lack of training data and limited computing power.\n",
            "Most speech recognition researchers moved away from neural nets to pursue generative modeling. An exception was at SRI International in the late 1990s. Funded by the US government's NSA and DARPA, SRI studied deep neural networks in speech and speaker recognition. The speaker recognition team led by Larry Heck reported significant success with deep neural networks in speech processing in the 1998 National Institute of Standards and Technology Speaker Recognition evaluation. The SRI deep neural network was then deployed in the Nuance Verifier, representing the first major industrial application of deep learning.The principle of elevating \"raw\" features over hand-crafted optimization was first explored successfully in the architecture of deep autoencoder on the \"raw\" spectrogram or linear filter-bank features in the late 1990s, showing its superiority over the Mel-Cepstral features that contain stages of fixed transformation from spectrograms. The raw features of speech, waveforms, later produced excellent larger-scale results.Many aspects of speech recognition were taken over by a deep learning method called long short-term memory (LSTM), a recurrent neural network published by Hochreiter and Schmidhuber in 1997. LSTM RNNs avoid the vanishing gradient problem and can learn \"Very Deep Learning\" tasks that require memories of events that happened thousands of discrete time steps before, which is important for speech. In 2003, LSTM started to become competitive with traditional speech recognizers on certain tasks. Later it was combined with connectionist temporal classification (CTC) in stacks of LSTM RNNs. In 2015, Google's speech recognition reportedly experienced a dramatic performance jump of 49% through CTC-trained LSTM, which they made available through Google Voice Search.In 2006, publications by Geoff Hinton, Ruslan Salakhutdinov, Osindero and Teh showed how a many-layered feedforward neural network could be effectively pre-trained one layer at a time, treating each layer in turn as an unsupervised restricted Boltzmann machine, then fine-tuning it using supervised backpropagation. The papers referred to learning for deep belief nets.\n",
            "Deep learning is part of state-of-the-art systems in various disciplines, particularly computer vision and automatic speech recognition (ASR). Results on commonly used evaluation sets such as TIMIT (ASR) and MNIST (image classification), as well as a range of large-vocabulary speech recognition tasks have steadily improved. Convolutional neural networks (CNNs) were superseded for ASR by CTC for LSTM. but are more successful in computer vision.\n",
            "The impact of deep learning in industry began in the early 2000s, when CNNs already processed an estimated 10% to 20% of all the checks written in the US, according to Yann LeCun. Industrial applications of deep learning to large-scale speech recognition started around 2010.\n",
            "The 2009 NIPS Workshop on Deep Learning for Speech Recognition was motivated by the limitations of deep generative models of speech, and the possibility that given more capable hardware and large-scale data sets that deep neural nets (DNN) might become practical. It was believed that pre-training DNNs using generative models of deep belief nets (DBN) would overcome the main difficulties of neural nets. However, it was discovered that replacing pre-training with large amounts of training data for straightforward backpropagation when using DNNs with large, context-dependent output layers produced error rates dramatically lower than then-state-of-the-art Gaussian mixture model (GMM)/Hidden Markov Model (HMM) and also than more-advanced generative model-based systems. The nature of the recognition errors produced by the two types of systems was characteristically different, offering technical insights into how to integrate deep learning into the existing highly efficient, run-time speech decoding system deployed by all major speech recognition systems. Analysis around 2009–2010, contrasting the GMM (and other generative speech models) vs. DNN models, stimulated early industrial investment in deep learning for speech recognition, eventually leading to pervasive and dominant use in that industry. That analysis was done with comparable performance (less than 1.5% in error rate) between discriminative DNNs and generative models.In 2010, researchers extended deep learning from TIMIT to large vocabulary speech recognition, by adopting large output layers of the DNN based on context-dependent HMM states constructed by decision trees.Advances in hardware have driven renewed interest in deep learning. In 2009, Nvidia was involved in what was called the “big bang” of deep learning, “as deep-learning neural networks were trained with Nvidia graphics processing units (GPUs).” That year, Google Brain used Nvidia GPUs to create capable DNNs. While there, Andrew Ng determined that GPUs could increase the speed of deep-learning systems by about 100 times. In particular, GPUs are well-suited for the matrix/vector computations involved in machine learning. GPUs speed up training algorithms by orders of magnitude, reducing running times from weeks to days. Further, specialized hardware and algorithm optimizations can be used for efficient processing of deep learning models.\n",
            "\n",
            "\n",
            "=== Deep learning revolution ===\n",
            "\n",
            "In 2012, a team led by George E. Dahl won the \"Merck Molecular Activity Challenge\" using multi-task deep neural networks to predict the biomolecular target of one drug. In 2014, Hochreiter's group used deep learning to detect off-target and toxic effects of environmental chemicals in nutrients, household products and drugs and won the \"Tox21 Data Challenge\" of NIH, FDA and NCATS.Significant additional impacts in image or object recognition were felt from 2011 to 2012. Although CNNs trained by backpropagation had been around for decades, and GPU implementations of NNs for years, including CNNs, fast implementations of CNNs with max-pooling on GPUs in the style of Ciresan and colleagues were needed to progress on computer vision. In 2011, this approach achieved for the first time superhuman performance in a visual pattern recognition contest. Also in 2011, it won the ICDAR Chinese handwriting contest, and in May 2012, it won the ISBI image segmentation contest. Until 2011, CNNs did not play a major role at computer vision conferences, but in June 2012, a paper by Ciresan et al. at the leading conference CVPR showed how max-pooling CNNs on GPU can dramatically improve many vision benchmark records. In October 2012, a similar system by Krizhevsky et al. won the large-scale ImageNet competition by a significant margin over shallow machine learning methods. In November 2012, Ciresan et al.'s system also won the ICPR contest on analysis of large medical images for cancer detection, and in the following year also the MICCAI Grand Challenge on the same topic. In 2013 and 2014, the error rate on the ImageNet task using deep learning was further reduced, following a similar trend in large-scale speech recognition. The Wolfram Image Identification project publicized these improvements.Image classification was then extended to the more challenging task of generating descriptions (captions) for images, often as a combination of CNNs and LSTMs.Some researchers state that the October 2012 ImageNet victory anchored the start of a \"deep learning revolution\" that has transformed the AI industry.In March 2019, Yoshua Bengio, Geoffrey Hinton and Yann LeCun were awarded the Turing Award for conceptual and engineering breakthroughs that have made deep neural networks a critical component of computing.\n",
            "\n",
            "\n",
            "== Neural networks ==\n",
            "\n",
            "\n",
            "=== Artificial neural networks ===\n",
            "\n",
            "Artificial neural networks (ANNs) or connectionist systems are computing systems inspired by the biological neural networks that constitute animal brains. Such systems learn (progressively improve their ability) to do tasks by considering examples, generally without task-specific programming. For example, in image recognition, they might learn to identify images that contain cats by analyzing example images that have been manually labeled as \"cat\" or \"no cat\" and using the analytic results to identify cats in other images. They have found most use in applications difficult to express with a traditional computer algorithm using rule-based programming.\n",
            "An ANN is based on a collection of connected units called artificial neurons, (analogous to biological neurons in a biological brain). Each connection (synapse) between neurons can transmit a signal to another neuron. The receiving (postsynaptic) neuron can process the signal(s) and then signal downstream neurons connected to it. Neurons may have state, generally represented by real numbers, typically between 0 and 1. Neurons and synapses may also have a weight that varies as learning proceeds, which can increase or decrease the strength of the signal that it sends downstream.\n",
            "Typically, neurons are organized in layers. Different layers may perform different kinds of transformations on their inputs. Signals travel from the first (input), to the last (output) layer, possibly after traversing the layers multiple times.\n",
            "The original goal of the neural network approach was to solve problems in the same way that a human brain would. Over time, attention focused on matching specific mental abilities, leading to deviations from biology such as backpropagation, or passing information in the reverse direction and adjusting the network to reflect that information.\n",
            "Neural networks have been used on a variety of tasks, including computer vision, speech recognition, machine translation, social network filtering, playing board and video games and medical diagnosis.\n",
            "As of 2017, neural networks typically have a few thousand to a few million units and millions of connections. Despite this number being several order of magnitude less than the number of neurons on a human brain, these networks can perform many tasks at a level beyond that of humans (e.g., recognizing faces, playing \"Go\" ).\n",
            "\n",
            "\n",
            "=== Deep neural networks ===\n",
            "A deep neural network (DNN) is an artificial neural network (ANN) with multiple layers between the input and output layers. The DNN finds the correct mathematical manipulation to turn the input into the output, whether it be a linear relationship or a non-linear relationship. The network moves through the layers calculating the probability of each output. For example, a DNN that is trained to recognize dog breeds will go over the given image and calculate the probability that the dog in the image is a certain breed. The user can review the results and select which probabilities the network should display (above a certain threshold, etc.) and return the proposed label. Each mathematical manipulation as such is considered a layer, and complex DNN have many layers, hence the name \"deep\" networks.\n",
            "DNNs can model complex non-linear relationships. DNN architectures generate compositional models where the object is expressed as a layered composition of primitives. The extra layers enable composition of features from lower layers, potentially modeling complex data with fewer units than a similarly performing shallow network.Deep architectures include many variants of a few basic approaches. Each architecture has found success in specific domains. It is not always possible to compare the performance of multiple architectures, unless they have been evaluated on the same data sets.\n",
            "DNNs are typically feedforward networks in which data flows from the input layer to the output layer without looping back. At first, the DNN creates a map of virtual neurons and assigns random numerical values, or \"weights\", to connections between them. The weights and inputs are multiplied and return an output between 0 and 1. If the network did not accurately recognize a particular pattern, an algorithm would adjust the weights. That way the algorithm can make certain parameters more influential, until it determines the correct mathematical manipulation to fully process the data.\n",
            "Recurrent neural networks (RNNs), in which data can flow in any direction, are used for applications such as language modeling. Long short-term memory is particularly effective for this use.Convolutional deep neural networks (CNNs) are used in computer vision. CNNs also have been applied to acoustic modeling for automatic speech recognition (ASR).\n",
            "\n",
            "\n",
            "==== Challenges ====\n",
            "As with ANNs, many issues can arise with naively trained DNNs. Two common issues are overfitting and computation time.\n",
            "DNNs are prone to overfitting because of the added layers of abstraction, which allow them to model rare dependencies in the training data. Regularization methods such as Ivakhnenko's unit pruning or weight decay (\n",
            "  \n",
            "    \n",
            "      \n",
            "        \n",
            "          ℓ\n",
            "          \n",
            "            2\n",
            "          \n",
            "        \n",
            "      \n",
            "    \n",
            "    {\\displaystyle \\ell _{2}}\n",
            "  -regularization) or sparsity (\n",
            "  \n",
            "    \n",
            "      \n",
            "        \n",
            "          ℓ\n",
            "          \n",
            "            1\n",
            "          \n",
            "        \n",
            "      \n",
            "    \n",
            "    {\\displaystyle \\ell _{1}}\n",
            "  -regularization) can be applied during training to combat overfitting. Alternatively dropout regularization randomly omits units from the hidden layers during training. This helps to exclude rare dependencies. Finally, data can be augmented via methods such as cropping and rotating such that smaller training sets can be increased in size to reduce the chances of overfitting.DNNs must consider many training parameters, such as the size (number of layers and number of units per layer), the learning rate, and initial weights. Sweeping through the parameter space for optimal parameters may not be feasible due to the cost in time and computational resources. Various tricks, such as batching (computing the gradient on several training examples at once rather than individual examples) speed up computation. Large processing capabilities of many-core architectures (such as GPUs or the Intel Xeon Phi) have produced significant speedups in training, because of the suitability of such processing architectures for the matrix and vector computations.Alternatively, engineers may look for other types of neural networks with more straightforward and convergent training algorithms. CMAC (cerebellar model articulation controller) is one such kind of neural network. It doesn't require learning rates or randomized initial weights for CMAC. The training process can be guaranteed to converge in one step with a new batch of data, and the computational complexity of the training algorithm is linear with respect to the number of neurons involved.\n",
            "\n",
            "\n",
            "== Hardware ==\n",
            "Since the 2010s, advances in both machine learning algorithms and computer hardware have led to more efficient methods for training deep neural networks that contain many layers of non-linear hidden units and a very large output layer. By 2019, graphic processing units (GPUs), often with AI-specific enhancements, had displaced CPUs as the dominant method of training large-scale commercial cloud AI. OpenAI estimated the hardware compute used in the largest deep learning projects from AlexNet (2012) to AlphaZero (2017), and found a 300,000-fold increase in the amount of compute required, with a doubling-time trendline of 3.4 months.\n",
            "\n",
            "\n",
            "== Applications ==\n",
            "\n",
            "\n",
            "=== Automatic speech recognition ===\n",
            "\n",
            "Large-scale automatic speech recognition is the first and most convincing successful case of deep learning. LSTM RNNs can learn \"Very Deep Learning\" tasks that involve multi-second intervals containing speech events separated by thousands of discrete time steps, where one time step corresponds to about 10 ms. LSTM with forget gates is competitive with traditional speech recognizers on certain tasks.The initial success in speech recognition was based on small-scale recognition tasks based on TIMIT. The data set contains 630 speakers from eight major dialects of American English, where each speaker reads 10 sentences. Its small size lets many configurations be tried. More importantly, the TIMIT task concerns phone-sequence recognition, which, unlike word-sequence recognition, allows weak phone bigram language models. This lets the strength of the acoustic modeling aspects of speech recognition be more easily analyzed. The error rates listed below, including these early results and measured as percent phone error rates (PER), have been summarized since 1991.\n",
            "\n",
            "The debut of DNNs for speaker recognition in the late 1990s and speech recognition around 2009-2011 and of LSTM around 2003–2007, accelerated progress in eight major areas:\n",
            "Scale-up/out and accelerated DNN training and decoding\n",
            "Sequence discriminative training\n",
            "Feature processing by deep models with solid understanding of the underlying mechanisms\n",
            "Adaptation of DNNs and related deep models\n",
            "Multi-task and transfer learning by DNNs and related deep models\n",
            "CNNs and how to design them to best exploit domain knowledge of speech\n",
            "RNN and its rich LSTM variants\n",
            "Other types of deep models including tensor-based models and integrated deep generative/discriminative models.All major commercial speech recognition systems (e.g., Microsoft Cortana, Xbox, Skype Translator, Amazon Alexa, Google Now, Apple Siri, Baidu and iFlyTek voice search, and a range of Nuance speech products, etc.) are based on deep learning.\n",
            "\n",
            "\n",
            "=== Electromyography (EMG) recognition ===\n",
            "Electromyography (EMG) signals have been used extensively in the identification of user intention to potentially control assistive devices such as smart wheelchairs, exoskeletons, and prosthetic devices. In the past century feed forward dense neural network has been used. Then, researcher used spectrogram to map EMG signal  and then use it as input of deep convolutional neural networks. Recently, end-to-end deep learning is used to map raw signals directly to identification of user intention .\n",
            "\n",
            "\n",
            "=== Image recognition ===\n",
            "\n",
            "A common evaluation set for image classification is the MNIST database data set. MNIST is composed of handwritten digits and includes 60,000 training examples and 10,000 test examples. As with TIMIT, its small size lets users test multiple configurations. A comprehensive list of results on this set is available.Deep learning-based image recognition has become \"superhuman\", producing more accurate results than human contestants. This first occurred in 2011.Deep learning-trained vehicles now interpret 360° camera views. Another example is Facial Dysmorphology Novel Analysis (FDNA) used to analyze cases of human malformation connected to a large database of genetic syndromes.\n",
            "\n",
            "\n",
            "=== Visual art processing ===\n",
            "Closely related to the progress that has been made in image recognition is the increasing application of deep learning techniques to various visual art tasks. DNNs have proven themselves capable, for example, of a) identifying the style period of a given painting, b) Neural Style Transfer - capturing the style of a given artwork and applying it in a visually pleasing manner to an arbitrary photograph or video, and c) generating striking imagery based on random visual input fields.\n",
            "\n",
            "\n",
            "=== Natural language processing ===\n",
            "\n",
            "Neural networks have been used for implementing language models since the early 2000s. LSTM helped to improve machine translation and language modeling.Other key techniques in this field are negative sampling and word embedding. Word embedding, such as word2vec, can be thought of as a representational layer in a deep learning architecture that transforms an atomic word into a positional representation of the word relative to other words in the dataset; the position is represented as a point in a vector space. Using word embedding as an RNN input layer allows the network to parse sentences and phrases using an effective compositional vector grammar. A compositional vector grammar can be thought of as probabilistic context free grammar (PCFG) implemented by an RNN. Recursive auto-encoders built atop word embeddings can assess sentence similarity and detect paraphrasing. Deep neural architectures provide the best results for constituency parsing, sentiment analysis, information retrieval, spoken language understanding, machine translation, contextual entity linking, writing style recognition, Text classification and others.Recent developments generalize word embedding to sentence embedding.\n",
            "Google Translate (GT) uses a large end-to-end long short-term memory network. Google Neural Machine Translation (GNMT) uses an example-based machine translation method in which the system \"learns from millions of examples.\" It translates \"whole sentences at a time, rather than pieces. Google Translate supports over one hundred languages. The network encodes the \"semantics of the sentence rather than simply memorizing phrase-to-phrase translations\". GT uses English as an intermediate between most language pairs.\n",
            "\n",
            "\n",
            "=== Drug discovery and toxicology ===\n",
            "\n",
            "A large percentage of candidate drugs fail to win regulatory approval. These failures are caused by insufficient efficacy (on-target effect), undesired interactions (off-target effects), or unanticipated toxic effects. Research has explored use of deep learning to predict the biomolecular targets, off-targets, and toxic effects of environmental chemicals in nutrients, household products and drugs.AtomNet is a deep learning system for structure-based rational drug design. AtomNet was used to predict novel candidate biomolecules for disease targets such as the Ebola virus and multiple sclerosis.In 2019 generative neural networks were used to produce molecules that were validated experimentally all the way into mice.\n",
            "\n",
            "\n",
            "=== Customer relationship management ===\n",
            "\n",
            "Deep reinforcement learning has been used to approximate the value of possible direct marketing actions, defined in terms of RFM variables. The estimated value function was shown to have a natural interpretation as customer lifetime value.\n",
            "\n",
            "\n",
            "=== Recommendation systems ===\n",
            "\n",
            "Recommendation systems have used deep learning to extract meaningful features for a latent factor model for content-based music and journal recommendations. Multi-view deep learning has been applied for learning user preferences from multiple domains. The model uses a hybrid collaborative and content-based approach and enhances recommendations in multiple tasks.\n",
            "\n",
            "\n",
            "=== Bioinformatics ===\n",
            "\n",
            "An autoencoder ANN was used in bioinformatics, to predict gene ontology annotations and gene-function relationships.In medical informatics, deep learning was used to predict sleep quality based on data from wearables and predictions of health complications from electronic health record data.\n",
            "\n",
            "\n",
            "=== Medical Image Analysis ===\n",
            "Deep learning has been shown to produce competitive results in medical application such as cancer cell classification, lesion detection, organ segmentation and image enhancement\n",
            "\n",
            "\n",
            "=== Mobile advertising ===\n",
            "Finding the appropriate mobile audience for mobile advertising is always challenging, since many data points must be considered and analyzed before a target segment can be created and used in ad serving by any ad server. Deep learning has been used to interpret large, many-dimensioned advertising datasets. Many data points are collected during the request/serve/click internet advertising cycle. This information can form the basis of machine learning to improve ad selection.\n",
            "\n",
            "\n",
            "=== Image restoration ===\n",
            "Deep learning has been successfully applied to inverse problems such as denoising, super-resolution, inpainting, and film colorization. These applications include learning methods such as \"Shrinkage Fields for Effective Image Restoration\" which trains on an image dataset, and Deep Image Prior, which trains on the image that needs restoration.\n",
            "\n",
            "\n",
            "=== Financial fraud detection ===\n",
            "Deep learning is being successfully applied to financial fraud detection and anti-money laundering. \"Deep anti-money laundering detection system can spot and recognize relationships and similarities between data and, further down the road, learn to detect anomalies or classify and predict specific events\". The solution leverages both supervised learning techniques, such as the classification of suspicious transactions, and unsupervised learning, e.g. anomaly detection.\n",
            "\n",
            "\n",
            "=== Military ===\n",
            "The United States Department of Defense applied deep learning to train robots in new tasks through observation.\n",
            "\n",
            "\n",
            "== Relation to human cognitive and brain development ==\n",
            "Deep learning is closely related to a class of theories of brain development (specifically, neocortical development) proposed by cognitive neuroscientists in the early 1990s. These developmental theories were instantiated in computational models, making them predecessors of deep learning systems. These developmental models share the property that various proposed learning dynamics in the brain (e.g., a wave of nerve growth factor) support the self-organization somewhat analogous to the neural networks utilized in deep learning models. Like the neocortex, neural networks employ a hierarchy of layered filters in which each layer considers information from a prior layer (or the operating environment), and then passes its output (and possibly the original input), to other layers. This process yields a self-organizing stack of transducers, well-tuned to their operating environment. A 1995 description stated, \"...the infant's brain seems to organize itself under the influence of waves of so-called trophic-factors ... different regions of the brain become connected sequentially, with one layer of tissue maturing before another and so on until the whole brain is mature.\"A variety of approaches have been used to investigate the plausibility of deep learning models from a neurobiological perspective. On the one hand, several variants of the backpropagation algorithm have been proposed in order to increase its processing realism. Other researchers have argued that unsupervised forms of deep learning, such as those based on hierarchical generative models and deep belief networks, may be closer to biological reality. In this respect, generative neural network models have been related to neurobiological evidence about sampling-based processing in the cerebral cortex.Although a systematic comparison between the human brain organization and the neuronal encoding in deep networks has not yet been established, several analogies have been reported. For example, the computations performed by deep learning units could be similar to those of actual neurons and neural populations. Similarly, the representations developed by deep learning models are similar to those measured in the primate visual system both at the single-unit and at the population levels.\n",
            "\n",
            "\n",
            "== Commercial activity ==\n",
            "Facebook's AI lab performs tasks such as automatically tagging uploaded pictures with the names of the people in them.Google's DeepMind Technologies developed a system capable of learning how to play Atari video games using only pixels as data input. In 2015 they demonstrated their AlphaGo system, which learned the game of Go well enough to beat a professional Go player. Google Translate uses a neural network to translate between more than 100 languages.\n",
            "In 2015, Blippar demonstrated a mobile augmented reality application that uses deep learning to recognize objects in real time.In 2017, Covariant.ai was launched, which focuses on integrating deep learning into factories.As of 2008, researchers at The University of Texas at Austin (UT) developed a machine learning framework called Training an Agent Manually via Evaluative Reinforcement, or TAMER, which proposed new methods for robots or computer programs to learn how to perform tasks by interacting with a human instructor. First developed as TAMER, a new algorithm called Deep TAMER was later introduced in 2018 during a collaboration between U.S. Army Research Laboratory (ARL) and UT researchers. Deep TAMER used deep learning to provide a robot the ability to learn new tasks through observation. Using Deep TAMER, a robot learned a task with a human trainer, watching video streams or observing a human perform a task in-person. The robot later practiced the task with the help of some coaching from the trainer, who provided feedback such as “good job” and “bad job.”\n",
            "\n",
            "\n",
            "== Criticism and comment ==\n",
            "Deep learning has attracted both criticism and comment, in some cases from outside the field of computer science.\n",
            "\n",
            "\n",
            "=== Theory ===\n",
            "\n",
            "A main criticism concerns the lack of theory surrounding some methods. Learning in the most common deep architectures is implemented using well-understood gradient descent. However, the theory surrounding other algorithms, such as contrastive divergence is less clear. (e.g., Does it converge? If so, how fast? What is it approximating?) Deep learning methods are often looked at as a black box, with most confirmations done empirically, rather than theoretically.\n",
            "Others point out that deep learning should be looked at as a step towards realizing strong AI, not as an all-encompassing solution. Despite the power of deep learning methods, they still lack much of the functionality needed for realizing this goal entirely. Research psychologist Gary Marcus noted:\"Realistically, deep learning is only part of the larger challenge of building intelligent machines. Such techniques lack ways of representing causal relationships (...) have no obvious ways of performing logical inferences, and they are also still a long way from integrating abstract knowledge, such as information about what objects are, what they are for, and how they are typically used. The most powerful A.I. systems, like Watson (...) use techniques like deep learning as just one element in a very complicated ensemble of techniques, ranging from the statistical technique of Bayesian inference to deductive reasoning.\"\n",
            "In further reference to the idea that artistic sensitivity might inhere within relatively low levels of the cognitive hierarchy, a published series of graphic representations of the internal states of deep (20-30 layers) neural networks attempting to discern within essentially random data the images on which they were trained demonstrate a visual appeal: the original research notice received well over 1,000 comments, and was the subject of what was for a time the most frequently accessed article on The Guardian's website.\n",
            "\n",
            "\n",
            "=== Errors ===\n",
            "Some deep learning architectures display problematic behaviors, such as confidently classifying unrecognizable images as belonging to a familiar category of ordinary images and misclassifying minuscule perturbations of correctly classified images. Goertzel hypothesized that these behaviors are due to limitations in their internal representations and that these limitations would inhibit integration into heterogeneous multi-component artificial general intelligence (AGI) architectures. These issues may possibly be addressed by deep learning architectures that internally form states homologous to image-grammar decompositions of observed entities and events. Learning a grammar (visual or linguistic) from training data would be equivalent to restricting the system to commonsense reasoning that operates on concepts in terms of grammatical production rules and is a basic goal of both human language acquisition and artificial intelligence (AI).\n",
            "\n",
            "\n",
            "=== Cyber threat ===\n",
            "As deep learning moves from the lab into the world, research and experience shows that artificial neural networks are vulnerable to hacks and deception. By identifying patterns that these systems use to function, attackers can modify inputs to ANNs in such a way that the ANN finds a match that human observers would not recognize. For example, an attacker can make subtle changes to an image such that the ANN finds a match even though the image looks to a human nothing like the search target. Such a manipulation is termed an “adversarial attack.” In 2016 researchers used one ANN to doctor images in trial and error fashion, identify another's focal points and thereby generate images that deceived it. The modified images looked no different to human eyes. Another group showed that printouts of doctored images then photographed successfully tricked an image classification system. One defense is reverse image search, in which a possible fake image is submitted to a site such as TinEye that can then find other instances of it. A refinement is to search using only parts of the image, to identify images from which that piece may have been taken.Another group showed that certain psychedelic spectacles could fool a facial recognition system into thinking ordinary people were celebrities, potentially allowing one person to impersonate another. In 2017 researchers added stickers to stop signs and caused an ANN to misclassify them.ANNs can however be further trained to detect attempts at deception, potentially leading attackers and defenders into an arms race similar to the kind that already defines the malware defense industry. ANNs have been trained to defeat ANN-based anti-malware software by repeatedly attacking a defense with malware that was continually altered by a genetic algorithm until it tricked the anti-malware while retaining its ability to damage the target.Another group demonstrated that certain sounds could make the Google Now voice command system open a particular web address that would download malware.In “data poisoning,” false data is continually smuggled into a machine learning system's training set to prevent it from achieving mastery.\n",
            "\n",
            "\n",
            "=== Reliance on human microwork ===\n",
            "Most Deep Learning systems rely on training and verification data that is generated and/or annotated by humans. It has been argued in media philosophy that not only low-paid clickwork (e.g. on Amazon Mechanical Turk) is regularly deployed for this purpose, but also implicit forms of human microwork that are often not recognized as such. The philosopher Rainer Mühlhoff distinguishes five types of \"machinic capture\" of human microwork to generate training data: (1) gamification (the embedding of annotation or computation tasks in the flow of a game), (2) \"trapping and tracking\" (e.g. CAPTCHAs for image recognition or click-tracking on Google search results pages), (3) exploitation of social motivations (e.g. tagging faces on Facebook to obtain labeled facial images), (4) information mining (e.g. by leveraging quantified-self devices such as activity trackers) and (5) clickwork. Mühlhoff argues that in most commercial end-user applications of Deep Learning such as Facebook's face recognition system, the need for training data does not stop once an ANN is trained. Rather, there is a continued demand for human-generated verification data to constantly calibrate and update the ANN. For this purpose Facebook introduced the feature that once a user is automatically recognized in an image, they receive a notification. They can choose whether of not they like to be publicly labeled on the image, or tell Facebook that it is not them in the picture. This user interface is a mechanism to generate \"a constant stream of  verification data\" to further train the network in real-time. As Mühlhoff argues, involvement of human users to generate training and verification data is so typical for most commercial end-user applications of Deep Learning that such systems may be referred to as \"human-aided artificial intelligence\".\n",
            "\n",
            "\n",
            "== See also ==\n",
            "Applications of artificial intelligence\n",
            "Comparison of deep learning software\n",
            "Compressed sensing\n",
            "Echo state network\n",
            "List of artificial intelligence projects\n",
            "Liquid state machine\n",
            "List of datasets for machine learning research\n",
            "Reservoir computing\n",
            "Sparse coding\n",
            "\n",
            "\n",
            "== References ==\n",
            "\n",
            "\n",
            "== Further reading ==\n"
          ],
          "name": "stdout"
        }
      ]
    },
    {
      "cell_type": "code",
      "metadata": {
        "id": "Tqql9GLbwNrz"
      },
      "source": [
        "import re\n",
        "from nltk.stem import WordNetLemmatizer\n",
        "\n",
        "stemmer = WordNetLemmatizer()\n",
        "\n",
        "def preprocess_text(document):\n",
        "        # Remove all the special characters\n",
        "        document = re.sub(r'\\W', ' ', str(document))\n",
        "\n",
        "        # remove all single characters\n",
        "        document = re.sub(r'\\s+[a-zA-Z]\\s+', ' ', document)\n",
        "\n",
        "        # Remove single characters from the start\n",
        "        document = re.sub(r'\\^[a-zA-Z]\\s+', ' ', document)\n",
        "\n",
        "        # Substituting multiple spaces with single space\n",
        "        document = re.sub(r'\\s+', ' ', document, flags=re.I)\n",
        "\n",
        "        # Removing prefixed 'b'\n",
        "        document = re.sub(r'^b\\s+', '', document)\n",
        "\n",
        "        # Converting to Lowercase\n",
        "        document = document.lower()\n",
        "\n",
        "        # Lemmatization\n",
        "        tokens = document.split()\n",
        "        tokens = [stemmer.lemmatize(word) for word in tokens]\n",
        "        tokens = [word for word in tokens if word not in en_stop]\n",
        "        tokens = [word for word in tokens if len(word) > 3]\n",
        "\n",
        "        preprocessed_text = ' '.join(tokens)\n",
        "        return preprocessed_text"
      ],
      "execution_count": null,
      "outputs": []
    },
    {
      "cell_type": "code",
      "metadata": {
        "id": "AVHW-vS3xQgU",
        "outputId": "cb0e0bf1-d626-4380-e695-6de36aac3d0e",
        "colab": {
          "base_uri": "https://localhost:8080/",
          "height": 35
        }
      },
      "source": [
        "sent = preprocess_text(\"Artificial intelligence, is the most advanced technology of the present era\")\n",
        "print(sent)\n",
        "\n",
        "\n",
        "final_corpus = [preprocess_text(sentence) for sentence in artificial_intelligence if sentence.strip() !='']\n",
        "\n",
        "word_punctuation_tokenizer = nltk.WordPunctTokenizer()\n",
        "word_tokenized_corpus = [word_punctuation_tokenizer.tokenize(sent) for sent in final_corpus]"
      ],
      "execution_count": null,
      "outputs": [
        {
          "output_type": "stream",
          "text": [
            "artificial intelligence advanced technology present\n"
          ],
          "name": "stdout"
        }
      ]
    },
    {
      "cell_type": "code",
      "metadata": {
        "id": "-6V4cTg8xoUI"
      },
      "source": [
        "embedding_size = 60\n",
        "window_size = 40\n",
        "min_word = 5\n",
        "down_sampling = 1e-2"
      ],
      "execution_count": null,
      "outputs": []
    },
    {
      "cell_type": "code",
      "metadata": {
        "id": "nxjQJVFKxyOW",
        "outputId": "1f276789-e7f4-44e3-f08c-1ae18389e23b",
        "colab": {
          "base_uri": "https://localhost:8080/",
          "height": 53
        }
      },
      "source": [
        "%%time\n",
        "ft_model = FastText(word_tokenized_corpus,\n",
        "                      size=embedding_size,\n",
        "                      window=window_size,\n",
        "                      min_count=min_word,\n",
        "                      sample=down_sampling,\n",
        "                      sg=1,\n",
        "                      iter=100)"
      ],
      "execution_count": null,
      "outputs": [
        {
          "output_type": "stream",
          "text": [
            "CPU times: user 39.3 s, sys: 115 ms, total: 39.4 s\n",
            "Wall time: 22.7 s\n"
          ],
          "name": "stdout"
        }
      ]
    },
    {
      "cell_type": "code",
      "metadata": {
        "id": "KetCTSfjyIYG",
        "outputId": "4f816991-106c-4575-d899-7c54931cf415",
        "colab": {
          "base_uri": "https://localhost:8080/",
          "height": 197
        }
      },
      "source": [
        "print(ft_model.wv['artificial'])"
      ],
      "execution_count": null,
      "outputs": [
        {
          "output_type": "stream",
          "text": [
            "[ 0.11450641  0.10336532  0.39269906 -0.7352629  -0.18130752  0.26943082\n",
            "  0.36489737 -0.23275432  0.02693624 -0.35989892 -0.07554847 -0.94468135\n",
            " -0.58958024 -0.3136937  -0.06872763 -0.03481399 -0.36506584  0.29557052\n",
            " -0.09155024  0.31631738 -0.25066307  0.10519376 -0.03672641 -0.60469323\n",
            "  0.20738661 -0.56010413  0.2202678   0.39565018 -0.5024215  -0.2383197\n",
            " -0.06369072 -0.342222   -0.23715597 -0.19952905 -0.07729646 -0.27283093\n",
            "  0.15318353  0.2128133  -0.16065668 -0.20964225 -0.56956416  0.08948728\n",
            "  0.04071273  0.18154065 -0.21308355 -0.05977246  0.31955767 -0.00875475\n",
            " -0.3459855  -0.2648886  -0.09915003  0.5774186  -0.23175883  0.15515131\n",
            " -0.141396   -0.4031267  -0.05670531  0.12638922  0.00456321  0.16397066]\n"
          ],
          "name": "stdout"
        }
      ]
    },
    {
      "cell_type": "code",
      "metadata": {
        "id": "4rYKYgsSyVfR",
        "outputId": "37a1b4c7-a7a6-456a-97ac-c60c16823006",
        "colab": {
          "base_uri": "https://localhost:8080/",
          "height": 181
        }
      },
      "source": [
        "semantically_similar_words = {words: [item[0] for item in ft_model.wv.most_similar([words], topn=5)]\n",
        "                  for words in ['artificial', 'intelligence', 'machine', 'network', 'recurrent', 'deep']}\n",
        "\n",
        "for k,v in semantically_similar_words.items():\n",
        "    print(k+\":\"+str(v))"
      ],
      "execution_count": null,
      "outputs": [
        {
          "output_type": "stream",
          "text": [
            "artificial:['intelligence', 'inspired', 'moral', 'collection', 'creating']\n",
            "intelligence:['artificial', 'intelligent', 'cognition', 'ethic', 'research']\n",
            "machine:['learning', 'ethic', 'concerned', 'intelligence', 'algorithm']\n",
            "network:['neural', 'deep', 'recurrent', 'belief', 'connectionist']\n",
            "recurrent:['convolutional', 'vision', 'deep', 'network', 'shallow']\n",
            "deep:['speech', 'network', 'neural', 'generative', 'cnns']\n"
          ],
          "name": "stdout"
        },
        {
          "output_type": "stream",
          "text": [
            "/usr/local/lib/python3.6/dist-packages/gensim/matutils.py:737: FutureWarning: Conversion of the second argument of issubdtype from `int` to `np.signedinteger` is deprecated. In future, it will be treated as `np.int64 == np.dtype(int).type`.\n",
            "  if np.issubdtype(vec.dtype, np.int):\n"
          ],
          "name": "stderr"
        }
      ]
    },
    {
      "cell_type": "code",
      "metadata": {
        "id": "h1wxrogR67io",
        "outputId": "cf100b79-f213-4a2a-e2f9-398deb652c9e",
        "colab": {
          "base_uri": "https://localhost:8080/",
          "height": 91
        }
      },
      "source": [
        "print(ft_model.wv.similarity(w1='artificial', w2='intelligence'))"
      ],
      "execution_count": null,
      "outputs": [
        {
          "output_type": "stream",
          "text": [
            "0.7710201\n"
          ],
          "name": "stdout"
        },
        {
          "output_type": "stream",
          "text": [
            "/usr/local/lib/python3.6/dist-packages/gensim/matutils.py:737: FutureWarning: Conversion of the second argument of issubdtype from `int` to `np.signedinteger` is deprecated. In future, it will be treated as `np.int64 == np.dtype(int).type`.\n",
            "  if np.issubdtype(vec.dtype, np.int):\n"
          ],
          "name": "stderr"
        }
      ]
    },
    {
      "cell_type": "code",
      "metadata": {
        "id": "OXsujT0H7JLp",
        "outputId": "f3f2aab3-20d4-47f7-dd80-c07ee62cf1f4",
        "colab": {
          "base_uri": "https://localhost:8080/",
          "height": 91
        }
      },
      "source": [
        "from sklearn.decomposition import PCA\n",
        "\n",
        "all_similar_words = sum([[k] + v for k, v in semantically_similar_words.items()], [])\n",
        "\n",
        "print(all_similar_words)\n",
        "print(type(all_similar_words))\n",
        "print(len(all_similar_words))"
      ],
      "execution_count": null,
      "outputs": [
        {
          "output_type": "stream",
          "text": [
            "['artificial', 'intelligence', 'inspired', 'moral', 'collection', 'creating', 'intelligence', 'artificial', 'intelligent', 'cognition', 'ethic', 'research', 'machine', 'learning', 'ethic', 'concerned', 'intelligence', 'algorithm', 'network', 'neural', 'deep', 'recurrent', 'belief', 'connectionist', 'recurrent', 'convolutional', 'vision', 'deep', 'network', 'shallow', 'deep', 'speech', 'network', 'neural', 'generative', 'cnns']\n",
            "<class 'list'>\n",
            "36\n"
          ],
          "name": "stdout"
        }
      ]
    },
    {
      "cell_type": "code",
      "metadata": {
        "id": "Kw9J9LRu7MS-",
        "outputId": "72014429-3986-4ab7-9625-5d2995a0a5f7",
        "colab": {
          "base_uri": "https://localhost:8080/",
          "height": 579
        }
      },
      "source": [
        "word_vectors = ft_model.wv[all_similar_words]\n",
        "\n",
        "pca = PCA(n_components=2)\n",
        "\n",
        "p_comps = pca.fit_transform(word_vectors)\n",
        "word_names = all_similar_words\n",
        "\n",
        "plt.figure(figsize=(18, 10))\n",
        "plt.scatter(p_comps[:, 0], p_comps[:, 1], c='red')\n",
        "\n",
        "for word_names, x, y in zip(word_names, p_comps[:, 0], p_comps[:, 1]):\n",
        "    plt.annotate(word_names, xy=(x+0.06, y+0.03), xytext=(0, 0), textcoords='offset points')"
      ],
      "execution_count": null,
      "outputs": [
        {
          "output_type": "display_data",
          "data": {
            "image/png": "[encoded data removed]",
            "text/plain": [
              "<Figure size 1296x720 with 1 Axes>"
            ]
          },
          "metadata": {
            "tags": [],
            "needs_background": "light"
          }
        }
      ]
    },
    {
      "cell_type": "code",
      "metadata": {
        "id": "6KOTBc1cQxI_"
      },
      "source": [
        ""
      ],
      "execution_count": null,
      "outputs": []
    },
    {
      "cell_type": "code",
      "metadata": {
        "id": "uCxpglmB8NkR",
        "outputId": "d6d00994-e117-4c09-9617-acf7ef8a61e9",
        "colab": {
          "base_uri": "https://localhost:8080/",
          "height": 700
        }
      },
      "source": [
        "import pandas as pd\n",
        "import numpy as np\n",
        "import os\n",
        "\n",
        "yelp_reviews = pd.read_csv('yelp_mini.csv')\n",
        "\n",
        "bins = [0,2,5]\n",
        "review_names = ['negative', 'positive']\n",
        "\n",
        "yelp_reviews['reviews_score'] = pd.cut(yelp_reviews['stars'], bins, labels=review_names)\n",
        "\n",
        "yelp_reviews.head()"
      ],
      "execution_count": null,
      "outputs": [
        {
          "output_type": "execute_result",
          "data": {
            "text/html": [
              "<div>\n",
              "<style scoped>\n",
              "    .dataframe tbody tr th:only-of-type {\n",
              "        vertical-align: middle;\n",
              "    }\n",
              "\n",
              "    .dataframe tbody tr th {\n",
              "        vertical-align: top;\n",
              "    }\n",
              "\n",
              "    .dataframe thead th {\n",
              "        text-align: right;\n",
              "    }\n",
              "</style>\n",
              "<table border=\"1\" class=\"dataframe\">\n",
              "  <thead>\n",
              "    <tr style=\"text-align: right;\">\n",
              "      <th></th>\n",
              "      <th>user_id</th>\n",
              "      <th>text</th>\n",
              "      <th>date</th>\n",
              "      <th>review_id</th>\n",
              "      <th>business_id</th>\n",
              "      <th>funny</th>\n",
              "      <th>cool</th>\n",
              "      <th>useful</th>\n",
              "      <th>stars</th>\n",
              "      <th>reviews_score</th>\n",
              "    </tr>\n",
              "  </thead>\n",
              "  <tbody>\n",
              "    <tr>\n",
              "      <th>0</th>\n",
              "      <td>b'hG7b0MtEbXx5QzbzE6C_VA'</td>\n",
              "      <td>b'Total bill for this horrible service? Over $...</td>\n",
              "      <td>b'2013-05-07 04:34:36'</td>\n",
              "      <td>b'Q1sbwvVQXV2734tPgoKj4Q'</td>\n",
              "      <td>b'ujmEBvifdJM6h6RLv4wQIg'</td>\n",
              "      <td>1</td>\n",
              "      <td>0</td>\n",
              "      <td>6</td>\n",
              "      <td>1</td>\n",
              "      <td>negative</td>\n",
              "    </tr>\n",
              "    <tr>\n",
              "      <th>1</th>\n",
              "      <td>b'yXQM5uF2jS6es16SJzNHfg'</td>\n",
              "      <td>b\"I *adore* Travis at the Hard Rock's new Kell...</td>\n",
              "      <td>b'2017-01-14 21:30:33'</td>\n",
              "      <td>b'GJXCdrto3ASJOqKeVWPi6Q'</td>\n",
              "      <td>b'NZnhc2sEQy3RmzKTZnqtwQ'</td>\n",
              "      <td>0</td>\n",
              "      <td>0</td>\n",
              "      <td>0</td>\n",
              "      <td>5</td>\n",
              "      <td>positive</td>\n",
              "    </tr>\n",
              "    <tr>\n",
              "      <th>2</th>\n",
              "      <td>b'n6-Gk65cPZL6Uz8qRm3NYw'</td>\n",
              "      <td>b\"I have to say that this office really has it...</td>\n",
              "      <td>b'2016-11-09 20:09:03'</td>\n",
              "      <td>b'2TzJjDVDEuAW6MR5Vuc1ug'</td>\n",
              "      <td>b'WTqjgwHlXbSFevF32_DJVw'</td>\n",
              "      <td>0</td>\n",
              "      <td>0</td>\n",
              "      <td>3</td>\n",
              "      <td>5</td>\n",
              "      <td>positive</td>\n",
              "    </tr>\n",
              "    <tr>\n",
              "      <th>3</th>\n",
              "      <td>b'dacAIZ6fTM6mqwW5uxkskg'</td>\n",
              "      <td>b\"Went in for a lunch. Steak sandwich was deli...</td>\n",
              "      <td>b'2018-01-09 20:56:38'</td>\n",
              "      <td>b'yi0R0Ugj_xUx_Nek0-_Qig'</td>\n",
              "      <td>b'ikCg8xy5JIg_NGPx-MSIDA'</td>\n",
              "      <td>0</td>\n",
              "      <td>0</td>\n",
              "      <td>0</td>\n",
              "      <td>5</td>\n",
              "      <td>positive</td>\n",
              "    </tr>\n",
              "    <tr>\n",
              "      <th>4</th>\n",
              "      <td>b'ssoyf2_x0EQMed6fgHeMyQ'</td>\n",
              "      <td>b'Today was my second out of three sessions I ...</td>\n",
              "      <td>b'2018-01-30 23:07:38'</td>\n",
              "      <td>b'11a8sVPMUFtaC7_ABRkmtw'</td>\n",
              "      <td>b'b1b1eb3uo-w561D0ZfCEiQ'</td>\n",
              "      <td>0</td>\n",
              "      <td>0</td>\n",
              "      <td>7</td>\n",
              "      <td>1</td>\n",
              "      <td>negative</td>\n",
              "    </tr>\n",
              "  </tbody>\n",
              "</table>\n",
              "</div>"
            ],
            "text/plain": [
              "                     user_id  ... reviews_score\n",
              "0  b'hG7b0MtEbXx5QzbzE6C_VA'  ...      negative\n",
              "1  b'yXQM5uF2jS6es16SJzNHfg'  ...      positive\n",
              "2  b'n6-Gk65cPZL6Uz8qRm3NYw'  ...      positive\n",
              "3  b'dacAIZ6fTM6mqwW5uxkskg'  ...      positive\n",
              "4  b'ssoyf2_x0EQMed6fgHeMyQ'  ...      negative\n",
              "\n",
              "[5 rows x 10 columns]"
            ]
          },
          "metadata": {
            "tags": []
          },
          "execution_count": 72
        }
      ]
    },
    {
      "cell_type": "code",
      "metadata": {
        "id": "-yAPxPNxLm8Q",
        "outputId": "370b0bfa-eb6a-4a44-e5fd-2611d7fe4874",
        "colab": {
          "base_uri": "https://localhost:8080/",
          "height": 305
        }
      },
      "source": [
        "!wget https://github.com/facebookresearch/fastText/archive/v0.1.0.zip"
      ],
      "execution_count": null,
      "outputs": [
        {
          "output_type": "stream",
          "text": [
            "--2020-09-19 21:06:37--  https://github.com/facebookresearch/fastText/archive/v0.1.0.zip\n",
            "Resolving github.com (github.com)... 140.82.118.3\n",
            "Connecting to github.com (github.com)|140.82.118.3|:443... connected.\n",
            "HTTP request sent, awaiting response... 302 Found\n",
            "Location: https://codeload.github.com/facebookresearch/fastText/zip/v0.1.0 [following]\n",
            "--2020-09-19 21:06:37--  https://codeload.github.com/facebookresearch/fastText/zip/v0.1.0\n",
            "Resolving codeload.github.com (codeload.github.com)... 140.82.121.9\n",
            "Connecting to codeload.github.com (codeload.github.com)|140.82.121.9|:443... connected.\n",
            "HTTP request sent, awaiting response... 200 OK\n",
            "Length: unspecified [application/zip]\n",
            "Saving to: ‘v0.1.0.zip’\n",
            "\n",
            "v0.1.0.zip              [ <=>                ]  92.06K  --.-KB/s    in 0.03s   \n",
            "\n",
            "2020-09-19 21:06:37 (3.41 MB/s) - ‘v0.1.0.zip’ saved [94267]\n",
            "\n"
          ],
          "name": "stdout"
        }
      ]
    },
    {
      "cell_type": "code",
      "metadata": {
        "id": "p6UgSYkCDL2Q",
        "outputId": "9827b007-49c0-437c-d4a0-799736d2d3fb",
        "colab": {
          "base_uri": "https://localhost:8080/",
          "height": 791
        }
      },
      "source": [
        "!unzip v0.1.0.zip"
      ],
      "execution_count": null,
      "outputs": [
        {
          "output_type": "stream",
          "text": [
            "Archive:  v0.1.0.zip\n",
            "431c9e2a9b5149369cc60fb9f5beba58dcf8ca17\n",
            "   creating: fastText-0.1.0/\n",
            "  inflating: fastText-0.1.0/.gitignore  \n",
            "  inflating: fastText-0.1.0/CONTRIBUTING.md  \n",
            "  inflating: fastText-0.1.0/LICENSE  \n",
            "  inflating: fastText-0.1.0/Makefile  \n",
            "  inflating: fastText-0.1.0/PATENTS  \n",
            "  inflating: fastText-0.1.0/README.md  \n",
            "  inflating: fastText-0.1.0/classification-example.sh  \n",
            "  inflating: fastText-0.1.0/classification-results.sh  \n",
            "  inflating: fastText-0.1.0/eval.py  \n",
            "  inflating: fastText-0.1.0/get-wikimedia.sh  \n",
            "  inflating: fastText-0.1.0/pretrained-vectors.md  \n",
            "  inflating: fastText-0.1.0/quantization-example.sh  \n",
            "  inflating: fastText-0.1.0/quantization-results.sh  \n",
            "   creating: fastText-0.1.0/src/\n",
            "  inflating: fastText-0.1.0/src/args.cc  \n",
            "  inflating: fastText-0.1.0/src/args.h  \n",
            "  inflating: fastText-0.1.0/src/dictionary.cc  \n",
            "  inflating: fastText-0.1.0/src/dictionary.h  \n",
            "  inflating: fastText-0.1.0/src/fasttext.cc  \n",
            "  inflating: fastText-0.1.0/src/fasttext.h  \n",
            "  inflating: fastText-0.1.0/src/main.cc  \n",
            "  inflating: fastText-0.1.0/src/matrix.cc  \n",
            "  inflating: fastText-0.1.0/src/matrix.h  \n",
            "  inflating: fastText-0.1.0/src/model.cc  \n",
            "  inflating: fastText-0.1.0/src/model.h  \n",
            "  inflating: fastText-0.1.0/src/productquantizer.cc  \n",
            "  inflating: fastText-0.1.0/src/productquantizer.h  \n",
            "  inflating: fastText-0.1.0/src/qmatrix.cc  \n",
            "  inflating: fastText-0.1.0/src/qmatrix.h  \n",
            "  inflating: fastText-0.1.0/src/real.h  \n",
            "  inflating: fastText-0.1.0/src/utils.cc  \n",
            "  inflating: fastText-0.1.0/src/utils.h  \n",
            "  inflating: fastText-0.1.0/src/vector.cc  \n",
            "  inflating: fastText-0.1.0/src/vector.h  \n",
            "   creating: fastText-0.1.0/tutorials/\n",
            "  inflating: fastText-0.1.0/tutorials/cbo_vs_skipgram.png  \n",
            "  inflating: fastText-0.1.0/tutorials/supervised-learning.md  \n",
            "  inflating: fastText-0.1.0/tutorials/unsupervised-learning.md  \n",
            "  inflating: fastText-0.1.0/wikifil.pl  \n",
            "  inflating: fastText-0.1.0/word-vector-example.sh  \n"
          ],
          "name": "stdout"
        }
      ]
    },
    {
      "cell_type": "code",
      "metadata": {
        "id": "IBwhEuXJMRDp",
        "outputId": "3f2e9558-6b63-404f-e4ef-f131865e4e0e",
        "colab": {
          "base_uri": "https://localhost:8080/",
          "height": 35
        }
      },
      "source": [
        "cd fastText010\n"
      ],
      "execution_count": null,
      "outputs": [
        {
          "output_type": "stream",
          "text": [
            "/content/fastText010\n"
          ],
          "name": "stdout"
        }
      ]
    },
    {
      "cell_type": "code",
      "metadata": {
        "id": "Yu-OX6aZMRdG",
        "outputId": "48fc8ce2-a096-466a-cb9f-bfda4b3aa196",
        "colab": {
          "base_uri": "https://localhost:8080/",
          "height": 217
        }
      },
      "source": [
        "!make"
      ],
      "execution_count": null,
      "outputs": [
        {
          "output_type": "stream",
          "text": [
            "c++ -pthread -std=c++0x -O3 -funroll-loops -c src/args.cc\n",
            "c++ -pthread -std=c++0x -O3 -funroll-loops -c src/dictionary.cc\n",
            "c++ -pthread -std=c++0x -O3 -funroll-loops -c src/productquantizer.cc\n",
            "c++ -pthread -std=c++0x -O3 -funroll-loops -c src/matrix.cc\n",
            "c++ -pthread -std=c++0x -O3 -funroll-loops -c src/qmatrix.cc\n",
            "c++ -pthread -std=c++0x -O3 -funroll-loops -c src/vector.cc\n",
            "c++ -pthread -std=c++0x -O3 -funroll-loops -c src/model.cc\n",
            "c++ -pthread -std=c++0x -O3 -funroll-loops -c src/utils.cc\n",
            "c++ -pthread -std=c++0x -O3 -funroll-loops -c src/fasttext.cc\n",
            "c++ -pthread -std=c++0x -O3 -funroll-loops args.o dictionary.o productquantizer.o matrix.o qmatrix.o vector.o model.o utils.o fasttext.o src/main.cc -o fasttext\n"
          ],
          "name": "stdout"
        }
      ]
    },
    {
      "cell_type": "code",
      "metadata": {
        "id": "ZH2PBBIZNEFg",
        "outputId": "2875649d-dd31-4b03-e008-bd42b720bc59",
        "colab": {
          "base_uri": "https://localhost:8080/",
          "height": 305
        }
      },
      "source": [
        "!./fasttext"
      ],
      "execution_count": null,
      "outputs": [
        {
          "output_type": "stream",
          "text": [
            "usage: fasttext <command> <args>\n",
            "\n",
            "The commands supported by fasttext are:\n",
            "\n",
            "  supervised              train a supervised classifier\n",
            "  quantize                quantize a model to reduce the memory usage\n",
            "  test                    evaluate a supervised classifier\n",
            "  predict                 predict most likely labels\n",
            "  predict-prob            predict most likely labels with probabilities\n",
            "  skipgram                train a skipgram model\n",
            "  cbow                    train a cbow model\n",
            "  print-word-vectors      print word vectors given a trained model\n",
            "  print-sentence-vectors  print sentence vectors given a trained model\n",
            "  nn                      query for nearest neighbors\n",
            "  analogies               query for analogies\n",
            "\n"
          ],
          "name": "stdout"
        }
      ]
    },
    {
      "cell_type": "code",
      "metadata": {
        "id": "NpPE1eD9NH3o",
        "outputId": "4764e483-5ce3-4003-c675-6637b8242a67",
        "colab": {
          "base_uri": "https://localhost:8080/",
          "height": 204
        }
      },
      "source": [
        "import pandas as pd\n",
        "from io import StringIO\n",
        "import csv\n",
        "\n",
        "col = ['reviews_score', 'text']\n",
        "\n",
        "yelp_reviews = yelp_reviews[col]\n",
        "\n",
        "yelp_reviews['reviews_score']=['__label__'+ str(s) for s in yelp_reviews['reviews_score']]\n",
        "yelp_reviews['text']= yelp_reviews['text'].replace('\\n',' ', regex=True).replace('\\t',' ', regex=True)\n",
        "yelp_reviews.to_csv('yelp_reviews_updated2.txt', index=False, sep=' ', header=False, quoting=csv.QUOTE_NONE, quotechar=\"\", escapechar=\" \")\n",
        "yelp_reviews.head()\n"
      ],
      "execution_count": null,
      "outputs": [
        {
          "output_type": "execute_result",
          "data": {
            "text/html": [
              "<div>\n",
              "<style scoped>\n",
              "    .dataframe tbody tr th:only-of-type {\n",
              "        vertical-align: middle;\n",
              "    }\n",
              "\n",
              "    .dataframe tbody tr th {\n",
              "        vertical-align: top;\n",
              "    }\n",
              "\n",
              "    .dataframe thead th {\n",
              "        text-align: right;\n",
              "    }\n",
              "</style>\n",
              "<table border=\"1\" class=\"dataframe\">\n",
              "  <thead>\n",
              "    <tr style=\"text-align: right;\">\n",
              "      <th></th>\n",
              "      <th>reviews_score</th>\n",
              "      <th>text</th>\n",
              "    </tr>\n",
              "  </thead>\n",
              "  <tbody>\n",
              "    <tr>\n",
              "      <th>0</th>\n",
              "      <td>__label__negative</td>\n",
              "      <td>b'Total bill for this horrible service? Over $...</td>\n",
              "    </tr>\n",
              "    <tr>\n",
              "      <th>1</th>\n",
              "      <td>__label__positive</td>\n",
              "      <td>b\"I *adore* Travis at the Hard Rock's new Kell...</td>\n",
              "    </tr>\n",
              "    <tr>\n",
              "      <th>2</th>\n",
              "      <td>__label__positive</td>\n",
              "      <td>b\"I have to say that this office really has it...</td>\n",
              "    </tr>\n",
              "    <tr>\n",
              "      <th>3</th>\n",
              "      <td>__label__positive</td>\n",
              "      <td>b\"Went in for a lunch. Steak sandwich was deli...</td>\n",
              "    </tr>\n",
              "    <tr>\n",
              "      <th>4</th>\n",
              "      <td>__label__negative</td>\n",
              "      <td>b'Today was my second out of three sessions I ...</td>\n",
              "    </tr>\n",
              "  </tbody>\n",
              "</table>\n",
              "</div>"
            ],
            "text/plain": [
              "       reviews_score                                               text\n",
              "0  __label__negative  b'Total bill for this horrible service? Over $...\n",
              "1  __label__positive  b\"I *adore* Travis at the Hard Rock's new Kell...\n",
              "2  __label__positive  b\"I have to say that this office really has it...\n",
              "3  __label__positive  b\"Went in for a lunch. Steak sandwich was deli...\n",
              "4  __label__negative  b'Today was my second out of three sessions I ..."
            ]
          },
          "metadata": {
            "tags": []
          },
          "execution_count": 73
        }
      ]
    },
    {
      "cell_type": "code",
      "metadata": {
        "id": "5xhUXw5TNIaW"
      },
      "source": [
        "!head -n 40000 \"yelp_reviews_updated2.txt\" > \"yelp_reviews_train.txt\"\n",
        "!tail -n 10000 \"yelp_reviews_updated2.txt\" > \"yelp_reviews_test.txt\""
      ],
      "execution_count": null,
      "outputs": []
    },
    {
      "cell_type": "code",
      "metadata": {
        "id": "MRzItc8DNIo6",
        "outputId": "b0565b01-62df-49e8-e3f4-1e708f5596a4",
        "colab": {
          "base_uri": "https://localhost:8080/",
          "height": 125
        }
      },
      "source": [
        "%%time\n",
        "!./fasttext supervised -input \"yelp_reviews_train.txt\" -output model_yelp_reviews"
      ],
      "execution_count": null,
      "outputs": [
        {
          "output_type": "stream",
          "text": [
            "\rRead 0M words\n",
            "Number of words:  11245\n",
            "Number of labels: 3\n",
            "\rProgress: 0.0%  words/sec/thread: 433653  lr: 0.100000  loss: 0.735017  eta: -596523h-14m \rProgress: 0.2%  words/sec/thread: 864242  lr: 0.099804  loss: 0.826895  eta: 0h0m \rProgress: 0.3%  words/sec/thread: 2292208  lr: 0.099673  loss: 0.918772  eta: 0h0m \rProgress: 0.9%  words/sec/thread: 2686504  lr: 0.099150  loss: 0.945022  eta: 0h0m \rProgress: 1.1%  words/sec/thread: 3001548  lr: 0.098906  loss: 0.964710  eta: 0h0m \rProgress: 1.3%  words/sec/thread: 2178408  lr: 0.098674  loss: 0.992273  eta: 0h0m \rProgress: 1.6%  words/sec/thread: 2288496  lr: 0.098406  loss: 1.010649  eta: 0h0m \rProgress: 1.7%  words/sec/thread: 2550381  lr: 0.098271  loss: 1.023774  eta: 0h0m \rProgress: 2.0%  words/sec/thread: 2696378  lr: 0.097990  loss: 1.033618  eta: 0h0m \rProgress: 2.2%  words/sec/thread: 2744630  lr: 0.097795  loss: 1.041275  eta: 0h0m \rProgress: 2.4%  words/sec/thread: 3055936  lr: 0.097591  loss: 1.044498  eta: 0h0m \rProgress: 2.7%  words/sec/thread: 3121942  lr: 0.097319  loss: 1.050025  eta: 0h0m \rProgress: 2.9%  words/sec/thread: 3254973  lr: 0.097119  loss: 1.054590  eta: 0h0m \rProgress: 3.0%  words/sec/thread: 3350000  lr: 0.096957  loss: 1.058425  eta: 0h0m \rProgress: 3.1%  words/sec/thread: 2503201  lr: 0.096850  loss: 1.061692  eta: 0h0m \rProgress: 3.3%  words/sec/thread: 2660075  lr: 0.096727  loss: 1.063150  eta: 0h0m \rProgress: 3.5%  words/sec/thread: 2707677  lr: 0.096466  loss: 1.065775  eta: 0h0m \rProgress: 3.7%  words/sec/thread: 2914170  lr: 0.096287  loss: 1.066960  eta: 0h0m \rProgress: 4.0%  words/sec/thread: 3048346  lr: 0.096005  loss: 1.069116  eta: 0h0m \rProgress: 4.4%  words/sec/thread: 3182869  lr: 0.095584  loss: 1.071900  eta: 0h0m \rProgress: 4.6%  words/sec/thread: 3213742  lr: 0.095370  loss: 1.072728  eta: 0h0m \rProgress: 4.8%  words/sec/thread: 3285936  lr: 0.095240  loss: 1.074256  eta: 0h0m \rProgress: 4.9%  words/sec/thread: 3349771  lr: 0.095102  loss: 1.074963  eta: 0h0m \rProgress: 5.0%  words/sec/thread: 3406641  lr: 0.094996  loss: 1.075635  eta: 0h0m \rProgress: 5.3%  words/sec/thread: 2870019  lr: 0.094750  loss: 1.076276  eta: 0h0m \rProgress: 5.6%  words/sec/thread: 2975555  lr: 0.094418  loss: 1.076886  eta: 0h0m \rProgress: 5.6%  words/sec/thread: 2964632  lr: 0.094366  loss: 1.078026  eta: 0h0m \rProgress: 5.9%  words/sec/thread: 3114983  lr: 0.094076  loss: 1.078558  eta: 0h0m \rProgress: 6.1%  words/sec/thread: 3188682  lr: 0.093881  loss: 1.080476  eta: 0h0m \rProgress: 6.3%  words/sec/thread: 3203917  lr: 0.093691  loss: 1.081324  eta: 0h0m \rProgress: 6.3%  words/sec/thread: 3322805  lr: 0.093655  loss: 1.082109  eta: 0h0m \rProgress: 6.7%  words/sec/thread: 3379476  lr: 0.093314  loss: 1.083184  eta: 0h0m \rProgress: 6.9%  words/sec/thread: 3425879  lr: 0.093109  loss: 1.083518  eta: 0h0m \rProgress: 7.1%  words/sec/thread: 3514637  lr: 0.092876  loss: 1.083840  eta: 0h0m \rProgress: 7.4%  words/sec/thread: 3032986  lr: 0.092643  loss: 1.084151  eta: 0h0m \rProgress: 7.6%  words/sec/thread: 3119218  lr: 0.092436  loss: 1.084452  eta: 0h0m \rProgress: 7.8%  words/sec/thread: 3173725  lr: 0.092152  loss: 1.085026  eta: 0h0m \rProgress: 7.9%  words/sec/thread: 3182150  lr: 0.092064  loss: 1.085299  eta: 0h0m \rProgress: 8.1%  words/sec/thread: 3269142  lr: 0.091855  loss: 1.085821  eta: 0h0m \rProgress: 8.4%  words/sec/thread: 3314118  lr: 0.091607  loss: 1.086071  eta: 0h0m \rProgress: 8.7%  words/sec/thread: 3378163  lr: 0.091345  loss: 1.086548  eta: 0h0m \rProgress: 8.8%  words/sec/thread: 3448293  lr: 0.091193  loss: 1.086998  eta: 0h0m \rProgress: 9.0%  words/sec/thread: 3481620  lr: 0.090989  loss: 1.087213  eta: 0h0m \rProgress: 9.1%  words/sec/thread: 3473418  lr: 0.090863  loss: 1.087423  eta: 0h0m \rProgress: 9.3%  words/sec/thread: 3535832  lr: 0.090723  loss: 1.087826  eta: 0h0m \rProgress: 9.4%  words/sec/thread: 3173814  lr: 0.090560  loss: 1.088019  eta: 0h0m \rProgress: 23.6%  words/sec/thread: 3786360  lr: 0.076372  loss: 1.088131  eta: 0h0m \rProgress: 23.8%  words/sec/thread: 3803883  lr: 0.076151  loss: 1.088274  eta: 0h0m \rProgress: 24.0%  words/sec/thread: 3823872  lr: 0.075977  loss: 1.088553  eta: 0h0m \rProgress: 24.2%  words/sec/thread: 3819924  lr: 0.075807  loss: 1.088843  eta: 0h0m \rProgress: 24.7%  words/sec/thread: 3877100  lr: 0.075304  loss: 1.089093  eta: 0h0m \rProgress: 24.8%  words/sec/thread: 3903477  lr: 0.075190  loss: 1.089113  eta: 0h0m \rProgress: 25.1%  words/sec/thread: 3927390  lr: 0.074850  loss: 1.089414  eta: 0h0m \rProgress: 25.4%  words/sec/thread: 3936381  lr: 0.074611  loss: 1.089430  eta: 0h0m \rProgress: 25.5%  words/sec/thread: 3948800  lr: 0.074457  loss: 1.089587  eta: 0h0m \rProgress: 25.8%  words/sec/thread: 3970168  lr: 0.074247  loss: 1.089676  eta: 0h0m \rProgress: 25.8%  words/sec/thread: 3802303  lr: 0.074191  loss: 1.089811  eta: 0h0m \rProgress: 26.2%  words/sec/thread: 3818092  lr: 0.073838  loss: 1.090021  eta: 0h0m \rProgress: 26.5%  words/sec/thread: 3856254  lr: 0.073457  loss: 1.090037  eta: 0h0m \rProgress: 26.7%  words/sec/thread: 3874607  lr: 0.073277  loss: 1.090225  eta: 0h0m \rProgress: 26.9%  words/sec/thread: 3888228  lr: 0.073085  loss: 1.090181  eta: 0h0m \rProgress: 27.1%  words/sec/thread: 3905293  lr: 0.072874  loss: 1.090193  eta: 0h0m \rProgress: 27.4%  words/sec/thread: 3911418  lr: 0.072646  loss: 1.090313  eta: 0h0m \rProgress: 27.6%  words/sec/thread: 3934723  lr: 0.072420  loss: 1.090428  eta: 0h0m \rProgress: 27.6%  words/sec/thread: 3952767  lr: 0.072377  loss: 1.090432  eta: 0h0m \rProgress: 27.8%  words/sec/thread: 3966956  lr: 0.072179  loss: 1.090436  eta: 0h0m \rProgress: 28.0%  words/sec/thread: 3985743  lr: 0.071984  loss: 1.090545  eta: 0h0m \rProgress: 28.2%  words/sec/thread: 3804672  lr: 0.071753  loss: 1.090649  eta: 0h0m \rProgress: 28.3%  words/sec/thread: 3799484  lr: 0.071704  loss: 1.090752  eta: 0h0m \rProgress: 28.5%  words/sec/thread: 3815062  lr: 0.071526  loss: 1.090803  eta: 0h0m \rProgress: 28.6%  words/sec/thread: 3823530  lr: 0.071438  loss: 1.090804  eta: 0h0m \rProgress: 28.7%  words/sec/thread: 3830507  lr: 0.071271  loss: 1.090852  eta: 0h0m \rProgress: 28.9%  words/sec/thread: 3848600  lr: 0.071100  loss: 1.090898  eta: 0h0m \rProgress: 43.2%  words/sec/thread: 4052487  lr: 0.056845  loss: 1.089801  eta: 0h0m \rProgress: 43.3%  words/sec/thread: 4072387  lr: 0.056681  loss: 1.089244  eta: 0h0m \rProgress: 43.9%  words/sec/thread: 4083462  lr: 0.056126  loss: 1.088655  eta: 0h0m \rProgress: 44.1%  words/sec/thread: 4093758  lr: 0.055933  loss: 1.087952  eta: 0h0m \rProgress: 44.2%  words/sec/thread: 4108668  lr: 0.055798  loss: 1.088243  eta: 0h0m \rProgress: 44.5%  words/sec/thread: 4115404  lr: 0.055501  loss: 1.087778  eta: 0h0m \rProgress: 44.7%  words/sec/thread: 4128120  lr: 0.055336  loss: 1.086173  eta: 0h0m \rProgress: 44.8%  words/sec/thread: 4135080  lr: 0.055162  loss: 1.086464  eta: 0h0m \rProgress: 45.1%  words/sec/thread: 4142630  lr: 0.054931  loss: 1.086102  eta: 0h0m \rProgress: 45.1%  words/sec/thread: 4029295  lr: 0.054892  loss: 1.085905  eta: 0h0m \rProgress: 45.5%  words/sec/thread: 4039403  lr: 0.054536  loss: 1.085281  eta: 0h0m \rProgress: 45.6%  words/sec/thread: 4056254  lr: 0.054357  loss: 1.083645  eta: 0h0m \rProgress: 45.9%  words/sec/thread: 4067366  lr: 0.054133  loss: 1.083125  eta: 0h0m \rProgress: 46.0%  words/sec/thread: 4084009  lr: 0.053964  loss: 1.081465  eta: 0h0m \rProgress: 46.3%  words/sec/thread: 4090567  lr: 0.053653  loss: 1.080798  eta: 0h0m \rProgress: 46.5%  words/sec/thread: 4098257  lr: 0.053480  loss: 1.080141  eta: 0h0m \rProgress: 46.7%  words/sec/thread: 4113266  lr: 0.053285  loss: 1.080482  eta: 0h0m \rProgress: 46.9%  words/sec/thread: 4116227  lr: 0.053093  loss: 1.079972  eta: 0h0m \rProgress: 47.1%  words/sec/thread: 4131449  lr: 0.052904  loss: 1.080310  eta: 0h0m \rProgress: 47.3%  words/sec/thread: 4142357  lr: 0.052661  loss: 1.080605  eta: 0h0m \rProgress: 47.5%  words/sec/thread: 4153385  lr: 0.052465  loss: 1.079475  eta: 0h0m \rProgress: 47.7%  words/sec/thread: 4045015  lr: 0.052251  loss: 1.078081  eta: 0h0m \rProgress: 47.9%  words/sec/thread: 4050543  lr: 0.052144  loss: 1.078324  eta: 0h0m \rProgress: 48.1%  words/sec/thread: 4057966  lr: 0.051939  loss: 1.076489  eta: 0h0m \rProgress: 48.2%  words/sec/thread: 4066157  lr: 0.051792  loss: 1.076189  eta: 0h0m \rProgress: 48.3%  words/sec/thread: 4081255  lr: 0.051682  loss: 1.075650  eta: 0h0m \rProgress: 48.7%  words/sec/thread: 4083740  lr: 0.051310  loss: 1.075092  eta: 0h0m \rProgress: 48.8%  words/sec/thread: 4098428  lr: 0.051150  loss: 1.074722  eta: 0h0m \rProgress: 49.1%  words/sec/thread: 4114243  lr: 0.050892  loss: 1.074663  eta: 0h0m \rProgress: 49.3%  words/sec/thread: 4112130  lr: 0.050666  loss: 1.074013  eta: 0h0m \rProgress: 49.5%  words/sec/thread: 4127134  lr: 0.050482  loss: 1.073200  eta: 0h0m \rProgress: 49.8%  words/sec/thread: 4133344  lr: 0.050245  loss: 1.071685  eta: 0h0m \rProgress: 49.9%  words/sec/thread: 4146321  lr: 0.050059  loss: 1.070514  eta: 0h0m \rProgress: 50.1%  words/sec/thread: 4153718  lr: 0.049905  loss: 1.069742  eta: 0h0m \rProgress: 50.2%  words/sec/thread: 4054002  lr: 0.049799  loss: 1.069061  eta: 0h0m \rProgress: 50.5%  words/sec/thread: 4079199  lr: 0.049509  loss: 1.067639  eta: 0h0m \rProgress: 50.9%  words/sec/thread: 4086606  lr: 0.049084  loss: 1.066846  eta: 0h0m \rProgress: 51.2%  words/sec/thread: 4089852  lr: 0.048808  loss: 1.066023  eta: 0h0m \rProgress: 51.4%  words/sec/thread: 4098186  lr: 0.048646  loss: 1.065762  eta: 0h0m \rProgress: 51.5%  words/sec/thread: 4107376  lr: 0.048464  loss: 1.064407  eta: 0h0m \rProgress: 51.6%  words/sec/thread: 4116358  lr: 0.048422  loss: 1.063589  eta: 0h0m \rProgress: 51.8%  words/sec/thread: 4128036  lr: 0.048189  loss: 1.062739  eta: 0h0m \rProgress: 66.2%  words/sec/thread: 4237658  lr: 0.033779  loss: 1.058268  eta: 0h0m \rProgress: 66.5%  words/sec/thread: 4245593  lr: 0.033547  loss: 1.052980  eta: 0h0m \rProgress: 66.7%  words/sec/thread: 4250982  lr: 0.033318  loss: 1.050324  eta: 0h0m \rProgress: 66.8%  words/sec/thread: 4256647  lr: 0.033152  loss: 1.044048  eta: 0h0m \rProgress: 67.0%  words/sec/thread: 4266862  lr: 0.032967  loss: 1.043331  eta: 0h0m \rProgress: 67.2%  words/sec/thread: 4271719  lr: 0.032787  loss: 1.041445  eta: 0h0m \rProgress: 67.3%  words/sec/thread: 4269838  lr: 0.032707  loss: 1.039507  eta: 0h0m \rProgress: 67.5%  words/sec/thread: 4284012  lr: 0.032458  loss: 1.040587  eta: 0h0m \rProgress: 67.7%  words/sec/thread: 4286198  lr: 0.032313  loss: 1.039559  eta: 0h0m \rProgress: 67.9%  words/sec/thread: 4300364  lr: 0.032132  loss: 1.036004  eta: 0h0m \rProgress: 68.1%  words/sec/thread: 4309782  lr: 0.031865  loss: 1.037512  eta: 0h0m \rProgress: 68.4%  words/sec/thread: 4316866  lr: 0.031625  loss: 1.033339  eta: 0h0m \rProgress: 68.6%  words/sec/thread: 4236642  lr: 0.031388  loss: 1.028826  eta: 0h0m \rProgress: 68.9%  words/sec/thread: 4239484  lr: 0.031148  loss: 1.024490  eta: 0h0m \rProgress: 69.0%  words/sec/thread: 4245762  lr: 0.030984  loss: 1.022595  eta: 0h0m \rProgress: 69.2%  words/sec/thread: 4251732  lr: 0.030822  loss: 1.021884  eta: 0h0m \rProgress: 69.2%  words/sec/thread: 4261637  lr: 0.030776  loss: 1.023387  eta: 0h0m \rProgress: 69.5%  words/sec/thread: 4263442  lr: 0.030467  loss: 1.019265  eta: 0h0m \rProgress: 69.7%  words/sec/thread: 4290772  lr: 0.030301  loss: 1.018508  eta: 0h0m \rProgress: 70.4%  words/sec/thread: 4296688  lr: 0.029594  loss: 1.014104  eta: 0h0m \rProgress: 70.6%  words/sec/thread: 4302345  lr: 0.029443  loss: 1.010328  eta: 0h0m \rProgress: 70.8%  words/sec/thread: 4308597  lr: 0.029246  loss: 1.004782  eta: 0h0m \rProgress: 70.8%  words/sec/thread: 4307104  lr: 0.029207  loss: 1.002865  eta: 0h0m \rProgress: 85.1%  words/sec/thread: 4380513  lr: 0.014933  loss: 1.000564  eta: 0h0m \rProgress: 85.2%  words/sec/thread: 4387758  lr: 0.014759  loss: 0.995911  eta: 0h0m \rProgress: 85.4%  words/sec/thread: 4392040  lr: 0.014608  loss: 0.993471  eta: 0h0m \rProgress: 87.1%  words/sec/thread: 4389190  lr: 0.012852  loss: 0.989275  eta: 0h0m \rProgress: 87.2%  words/sec/thread: 4414533  lr: 0.012793  loss: 0.989600  eta: 0h0m \rProgress: 88.4%  words/sec/thread: 4414696  lr: 0.011598  loss: 0.984297  eta: 0h0m \rProgress: 88.5%  words/sec/thread: 4421753  lr: 0.011462  loss: 0.980242  eta: 0h0m \rProgress: 88.7%  words/sec/thread: 4424186  lr: 0.011274  loss: 0.975995  eta: 0h0m \rProgress: 88.9%  words/sec/thread: 4424986  lr: 0.011122  loss: 0.971401  eta: 0h0m \rProgress: 89.0%  words/sec/thread: 4425800  lr: 0.011033  loss: 0.969887  eta: 0h0m \rProgress: 89.2%  words/sec/thread: 4361656  lr: 0.010850  loss: 0.971238  eta: 0h0m \rProgress: 89.3%  words/sec/thread: 4375914  lr: 0.010660  loss: 0.969068  eta: 0h0m \rProgress: 90.0%  words/sec/thread: 4380088  lr: 0.010033  loss: 0.970090  eta: 0h0m \rProgress: 90.2%  words/sec/thread: 4384068  lr: 0.009842  loss: 0.962912  eta: 0h0m \rProgress: 90.3%  words/sec/thread: 4386240  lr: 0.009706  loss: 0.960146  eta: 0h0m \rProgress: 90.5%  words/sec/thread: 4391832  lr: 0.009503  loss: 0.961678  eta: 0h0m \rProgress: 90.6%  words/sec/thread: 4390404  lr: 0.009365  loss: 0.961514  eta: 0h0m \rProgress: 90.7%  words/sec/thread: 4388412  lr: 0.009309  loss: 0.959359  eta: 0h0m \rProgress: 91.0%  words/sec/thread: 4403214  lr: 0.008954  loss: 0.959620  eta: 0h0m \rProgress: 91.3%  words/sec/thread: 4406126  lr: 0.008736  loss: 0.959326  eta: 0h0m \rProgress: 91.4%  words/sec/thread: 4340190  lr: 0.008638  loss: 0.957763  eta: 0h0m \rProgress: 91.6%  words/sec/thread: 4345868  lr: 0.008409  loss: 0.958184  eta: 0h0m \rProgress: 91.7%  words/sec/thread: 4351067  lr: 0.008261  loss: 0.960262  eta: 0h0m \rProgress: 92.0%  words/sec/thread: 4352456  lr: 0.008041  loss: 0.958130  eta: 0h0m \rProgress: 92.0%  words/sec/thread: 4365163  lr: 0.007987  loss: 0.956230  eta: 0h0m \rProgress: 92.5%  words/sec/thread: 4370358  lr: 0.007530  loss: 0.958738  eta: 0h0m \rProgress: 92.7%  words/sec/thread: 4379800  lr: 0.007257  loss: 0.958365  eta: 0h0m \rProgress: 93.0%  words/sec/thread: 4387142  lr: 0.006975  loss: 0.956512  eta: 0h0m \rProgress: 93.4%  words/sec/thread: 4397830  lr: 0.006596  loss: 0.958389  eta: 0h0m \rProgress: 93.8%  words/sec/thread: 4332807  lr: 0.006155  loss: 0.956509  eta: 0h0m \rProgress: 93.9%  words/sec/thread: 4339659  lr: 0.006052  loss: 0.952316  eta: 0h0m \rProgress: 94.2%  words/sec/thread: 4340638  lr: 0.005811  loss: 0.952508  eta: 0h0m \rProgress: 94.4%  words/sec/thread: 4345948  lr: 0.005611  loss: 0.951040  eta: 0h0m \rProgress: 100.0%  words/sec/thread: 4363040  lr: 0.000000  loss: 0.951040  eta: 0h0m \n",
            "CPU times: user 4.42 ms, sys: 7.03 ms, total: 11.4 ms\n",
            "Wall time: 722 ms\n"
          ],
          "name": "stdout"
        }
      ]
    },
    {
      "cell_type": "code",
      "metadata": {
        "id": "7pJBW0JCYHYG",
        "outputId": "15390a8f-f4e1-4186-8802-8a654dbf2ccd",
        "colab": {
          "base_uri": "https://localhost:8080/",
          "height": 215
        }
      },
      "source": [
        "!ls"
      ],
      "execution_count": null,
      "outputs": [
        {
          "output_type": "stream",
          "text": [
            "args.o\t\t\t   matrix.o\t\t    src\n",
            "classification-example.sh  model.o\t\t    tutorials\n",
            "classification-results.sh  model_yelp_reviews.bin   utils.o\n",
            "CONTRIBUTING.md\t\t   model_yelp_reviews.vec   vector.o\n",
            "dictionary.o\t\t   PATENTS\t\t    wikifil.pl\n",
            "eval.py\t\t\t   pretrained-vectors.md    word-vector-example.sh\n",
            "fasttext\t\t   productquantizer.o\t    yelp_mini.csv\n",
            "fasttext.o\t\t   qmatrix.o\t\t    yelp_reviews_test.txt\n",
            "get-wikimedia.sh\t   quantization-example.sh  yelp_reviews_train.txt\n",
            "LICENSE\t\t\t   quantization-results.sh  yelp_reviews_updated2.txt\n",
            "Makefile\t\t   README.md\t\t    yelp_reviews_updated.txt\n"
          ],
          "name": "stdout"
        }
      ]
    },
    {
      "cell_type": "code",
      "metadata": {
        "id": "-5rQ6IK4YMh3",
        "outputId": "7428641c-6f52-4ade-939e-193a724156e7",
        "colab": {
          "base_uri": "https://localhost:8080/",
          "height": 89
        }
      },
      "source": [
        "!./fasttext test model_yelp_reviews.bin \"yelp_reviews_test.txt\""
      ],
      "execution_count": null,
      "outputs": [
        {
          "output_type": "stream",
          "text": [
            "N\t493\n",
            "P@1\t0.748\n",
            "R@1\t0.748\n",
            "Number of examples: 493\n"
          ],
          "name": "stdout"
        }
      ]
    },
    {
      "cell_type": "code",
      "metadata": {
        "id": "Rn2ktpfoYbme"
      },
      "source": [
        "!cat \"yelp_reviews_train.txt\" | sed -e \"s/\\([.\\!?,’/()]\\)/ \\1 /g\" | tr \"[:upper:]\" \"[:lower:]\" > \"yelp_reviews_train_clean.txt\""
      ],
      "execution_count": null,
      "outputs": []
    },
    {
      "cell_type": "code",
      "metadata": {
        "id": "At3s17FpYlyG"
      },
      "source": [
        "!cat \"yelp_reviews_test.txt\" | sed -e \"s/\\([.\\!?,’/()]\\)/ \\1 /g\" | tr \"[:upper:]\" \"[:lower:]\" > \"yelp_reviews_test_clean.txt\""
      ],
      "execution_count": null,
      "outputs": []
    },
    {
      "cell_type": "code",
      "metadata": {
        "id": "r_vWAie4ZVG_",
        "outputId": "3a507f08-71cb-497e-ccbc-e78fb96d28ba",
        "colab": {
          "base_uri": "https://localhost:8080/",
          "height": 125
        }
      },
      "source": [
        "%%time\n",
        "!./fasttext supervised -input \"yelp_reviews_train_clean.txt\" -output model_yelp_reviews"
      ],
      "execution_count": null,
      "outputs": [
        {
          "output_type": "stream",
          "text": [
            "\rRead 0M words\n",
            "Number of words:  7149\n",
            "Number of labels: 3\n",
            "\rProgress: 0.0%  words/sec/thread: 594059  lr: 0.100000  loss: 0.735017  eta: -596523h-14m \rProgress: 0.1%  words/sec/thread: 651413  lr: 0.099901  loss: 0.826895  eta: 0h0m \rProgress: 0.3%  words/sec/thread: 2444666  lr: 0.099739  loss: 0.918772  eta: 0h0m \rProgress: 0.8%  words/sec/thread: 3000000  lr: 0.099209  loss: 0.945022  eta: 0h0m \rProgress: 1.1%  words/sec/thread: 3637031  lr: 0.098929  loss: 0.964710  eta: 0h0m \rProgress: 1.3%  words/sec/thread: 2467551  lr: 0.098674  loss: 0.992273  eta: 0h0m \rProgress: 1.4%  words/sec/thread: 2470211  lr: 0.098562  loss: 1.010649  eta: 0h0m \rProgress: 1.5%  words/sec/thread: 2441778  lr: 0.098512  loss: 1.017716  eta: 0h0m \rProgress: 1.9%  words/sec/thread: 3083898  lr: 0.098131  loss: 1.023774  eta: 0h0m \rProgress: 2.1%  words/sec/thread: 3281518  lr: 0.097900  loss: 1.033618  eta: 0h0m \rProgress: 2.3%  words/sec/thread: 3339578  lr: 0.097729  loss: 1.041275  eta: 0h0m \rProgress: 2.4%  words/sec/thread: 3627676  lr: 0.097565  loss: 1.044498  eta: 0h0m \rProgress: 2.8%  words/sec/thread: 3955490  lr: 0.097194  loss: 1.050025  eta: 0h0m \rProgress: 3.0%  words/sec/thread: 4066546  lr: 0.096981  loss: 1.054590  eta: 0h0m \rProgress: 3.2%  words/sec/thread: 3080334  lr: 0.096775  loss: 1.058425  eta: 0h0m \rProgress: 3.3%  words/sec/thread: 3096890  lr: 0.096741  loss: 1.061692  eta: 0h0m \rProgress: 3.4%  words/sec/thread: 3190128  lr: 0.096640  loss: 1.063150  eta: 0h0m \rProgress: 3.6%  words/sec/thread: 3292544  lr: 0.096382  loss: 1.065775  eta: 0h0m \rProgress: 3.7%  words/sec/thread: 3540515  lr: 0.096265  loss: 1.066960  eta: 0h0m \rProgress: 4.1%  words/sec/thread: 3559040  lr: 0.095896  loss: 1.068072  eta: 0h0m \rProgress: 4.3%  words/sec/thread: 3773730  lr: 0.095729  loss: 1.069116  eta: 0h0m \rProgress: 4.5%  words/sec/thread: 3813525  lr: 0.095467  loss: 1.071900  eta: 0h0m \rProgress: 4.6%  words/sec/thread: 3979821  lr: 0.095378  loss: 1.072728  eta: 0h0m \rProgress: 5.0%  words/sec/thread: 4066017  lr: 0.095004  loss: 1.074256  eta: 0h0m \rProgress: 5.1%  words/sec/thread: 4113199  lr: 0.094862  loss: 1.074963  eta: 0h0m \rProgress: 5.3%  words/sec/thread: 3481934  lr: 0.094722  loss: 1.075635  eta: 0h0m \rProgress: 5.5%  words/sec/thread: 3607366  lr: 0.094513  loss: 1.076276  eta: 0h0m \rProgress: 5.8%  words/sec/thread: 3679553  lr: 0.094216  loss: 1.076886  eta: 0h0m \rProgress: 6.0%  words/sec/thread: 3724150  lr: 0.094003  loss: 1.078026  eta: 0h0m \rProgress: 6.1%  words/sec/thread: 3794306  lr: 0.093914  loss: 1.078558  eta: 0h0m \rProgress: 6.3%  words/sec/thread: 3845435  lr: 0.093670  loss: 1.080026  eta: 0h0m \rProgress: 6.4%  words/sec/thread: 3927321  lr: 0.093597  loss: 1.080476  eta: 0h0m \rProgress: 6.6%  words/sec/thread: 3982468  lr: 0.093370  loss: 1.081324  eta: 0h0m \rProgress: 6.8%  words/sec/thread: 4039652  lr: 0.093227  loss: 1.082109  eta: 0h0m \rProgress: 6.9%  words/sec/thread: 4032766  lr: 0.093083  loss: 1.083184  eta: 0h0m \rProgress: 7.4%  words/sec/thread: 4245194  lr: 0.092650  loss: 1.083518  eta: 0h0m \rProgress: 7.5%  words/sec/thread: 3702920  lr: 0.092529  loss: 1.083840  eta: 0h0m \rProgress: 7.7%  words/sec/thread: 3752791  lr: 0.092310  loss: 1.084151  eta: 0h0m \rProgress: 7.8%  words/sec/thread: 3827722  lr: 0.092167  loss: 1.084452  eta: 0h0m \rProgress: 8.0%  words/sec/thread: 3870900  lr: 0.091967  loss: 1.084744  eta: 0h0m \rProgress: 8.3%  words/sec/thread: 3912085  lr: 0.091718  loss: 1.085299  eta: 0h0m \rProgress: 8.4%  words/sec/thread: 3956829  lr: 0.091568  loss: 1.085821  eta: 0h0m \rProgress: 8.6%  words/sec/thread: 4022032  lr: 0.091414  loss: 1.086071  eta: 0h0m \rProgress: 8.9%  words/sec/thread: 4097940  lr: 0.091128  loss: 1.086548  eta: 0h0m \rProgress: 9.0%  words/sec/thread: 4109816  lr: 0.091010  loss: 1.086998  eta: 0h0m \rProgress: 9.2%  words/sec/thread: 4192932  lr: 0.090799  loss: 1.087213  eta: 0h0m \rProgress: 9.4%  words/sec/thread: 4232068  lr: 0.090560  loss: 1.087423  eta: 0h0m \rProgress: 9.6%  words/sec/thread: 3819658  lr: 0.090362  loss: 1.087826  eta: 0h0m \rProgress: 9.7%  words/sec/thread: 3849247  lr: 0.090268  loss: 1.088019  eta: 0h0m \rProgress: 24.8%  words/sec/thread: 4707992  lr: 0.075184  loss: 1.087683  eta: 0h0m \rProgress: 25.0%  words/sec/thread: 4728004  lr: 0.074974  loss: 1.087038  eta: 0h0m \rProgress: 25.2%  words/sec/thread: 4733675  lr: 0.074802  loss: 1.086447  eta: 0h0m \rProgress: 25.3%  words/sec/thread: 4741461  lr: 0.074706  loss: 1.086792  eta: 0h0m \rProgress: 25.5%  words/sec/thread: 4791168  lr: 0.074452  loss: 1.086338  eta: 0h0m \rProgress: 25.8%  words/sec/thread: 4801650  lr: 0.074199  loss: 1.085987  eta: 0h0m \rProgress: 25.9%  words/sec/thread: 4822912  lr: 0.074125  loss: 1.085846  eta: 0h0m \rProgress: 26.2%  words/sec/thread: 4842434  lr: 0.073807  loss: 1.086170  eta: 0h0m \rProgress: 26.3%  words/sec/thread: 4865934  lr: 0.073715  loss: 1.086487  eta: 0h0m \rProgress: 26.5%  words/sec/thread: 4873434  lr: 0.073477  loss: 1.086030  eta: 0h0m \rProgress: 26.8%  words/sec/thread: 4892510  lr: 0.073249  loss: 1.084728  eta: 0h0m \rProgress: 26.8%  words/sec/thread: 4886920  lr: 0.073193  loss: 1.083714  eta: 0h0m \rProgress: 27.1%  words/sec/thread: 4690222  lr: 0.072928  loss: 1.084100  eta: 0h0m \rProgress: 27.3%  words/sec/thread: 4701455  lr: 0.072741  loss: 1.082736  eta: 0h0m \rProgress: 27.3%  words/sec/thread: 4727441  lr: 0.072651  loss: 1.083181  eta: 0h0m \rProgress: 27.7%  words/sec/thread: 4743615  lr: 0.072325  loss: 1.081823  eta: 0h0m \rProgress: 27.9%  words/sec/thread: 4763092  lr: 0.072125  loss: 1.081469  eta: 0h0m \rProgress: 28.1%  words/sec/thread: 4782744  lr: 0.071944  loss: 1.080205  eta: 0h0m \rProgress: 28.2%  words/sec/thread: 4783342  lr: 0.071849  loss: 1.079358  eta: 0h0m \rProgress: 28.3%  words/sec/thread: 4804522  lr: 0.071733  loss: 1.078728  eta: 0h0m \rProgress: 28.5%  words/sec/thread: 4824930  lr: 0.071457  loss: 1.078669  eta: 0h0m \rProgress: 28.6%  words/sec/thread: 4832210  lr: 0.071352  loss: 1.078062  eta: 0h0m \rProgress: 28.7%  words/sec/thread: 4853658  lr: 0.071323  loss: 1.078017  eta: 0h0m \rProgress: 28.9%  words/sec/thread: 4875098  lr: 0.071067  loss: 1.077337  eta: 0h0m \rProgress: 29.1%  words/sec/thread: 4651662  lr: 0.070894  loss: 1.077052  eta: 0h0m \rProgress: 29.2%  words/sec/thread: 4648622  lr: 0.070826  loss: 1.077586  eta: 0h0m \rProgress: 29.2%  words/sec/thread: 4643173  lr: 0.070780  loss: 1.077421  eta: 0h0m \rProgress: 29.6%  words/sec/thread: 4697294  lr: 0.070406  loss: 1.075667  eta: 0h0m \rProgress: 29.7%  words/sec/thread: 4708360  lr: 0.070315  loss: 1.075489  eta: 0h0m \rProgress: 29.9%  words/sec/thread: 4725660  lr: 0.070123  loss: 1.074344  eta: 0h0m \rProgress: 30.0%  words/sec/thread: 4741776  lr: 0.069953  loss: 1.074036  eta: 0h0m \rProgress: 44.2%  words/sec/thread: 4913497  lr: 0.055765  loss: 1.064336  eta: 0h0m \rProgress: 44.4%  words/sec/thread: 4952886  lr: 0.055555  loss: 1.060126  eta: 0h0m \rProgress: 45.0%  words/sec/thread: 4963848  lr: 0.054966  loss: 1.056505  eta: 0h0m \rProgress: 45.2%  words/sec/thread: 4972850  lr: 0.054793  loss: 1.052495  eta: 0h0m \rProgress: 45.3%  words/sec/thread: 4984766  lr: 0.054669  loss: 1.054509  eta: 0h0m \rProgress: 45.6%  words/sec/thread: 4995383  lr: 0.054401  loss: 1.052215  eta: 0h0m \rProgress: 45.8%  words/sec/thread: 5001415  lr: 0.054227  loss: 1.037727  eta: 0h0m \rProgress: 46.0%  words/sec/thread: 5018266  lr: 0.054011  loss: 1.040030  eta: 0h0m \rProgress: 46.3%  words/sec/thread: 5030834  lr: 0.053746  loss: 1.038139  eta: 0h0m \rProgress: 46.4%  words/sec/thread: 4892408  lr: 0.053644  loss: 1.035785  eta: 0h0m \rProgress: 46.5%  words/sec/thread: 4895777  lr: 0.053491  loss: 1.032638  eta: 0h0m \rProgress: 46.7%  words/sec/thread: 4907942  lr: 0.053304  loss: 1.021593  eta: 0h0m \rProgress: 46.8%  words/sec/thread: 4918710  lr: 0.053181  loss: 1.018510  eta: 0h0m \rProgress: 47.0%  words/sec/thread: 4930353  lr: 0.052992  loss: 1.008844  eta: 0h0m \rProgress: 47.3%  words/sec/thread: 4936993  lr: 0.052703  loss: 1.006449  eta: 0h0m \rProgress: 47.4%  words/sec/thread: 4944990  lr: 0.052564  loss: 1.003301  eta: 0h0m \rProgress: 47.6%  words/sec/thread: 4950744  lr: 0.052383  loss: 1.005703  eta: 0h0m \rProgress: 47.8%  words/sec/thread: 4965530  lr: 0.052206  loss: 1.003328  eta: 0h0m \rProgress: 48.0%  words/sec/thread: 4986737  lr: 0.051997  loss: 1.005407  eta: 0h0m \rProgress: 48.3%  words/sec/thread: 4992938  lr: 0.051719  loss: 1.007603  eta: 0h0m \rProgress: 48.5%  words/sec/thread: 5009262  lr: 0.051544  loss: 1.002289  eta: 0h0m \rProgress: 48.7%  words/sec/thread: 4877064  lr: 0.051276  loss: 0.996328  eta: 0h0m \rProgress: 48.9%  words/sec/thread: 4879981  lr: 0.051130  loss: 0.995795  eta: 0h0m \rProgress: 49.0%  words/sec/thread: 4893036  lr: 0.051014  loss: 0.989524  eta: 0h0m \rProgress: 49.1%  words/sec/thread: 4890232  lr: 0.050902  loss: 0.989472  eta: 0h0m \rProgress: 49.1%  words/sec/thread: 4887280  lr: 0.050868  loss: 0.987423  eta: 0h0m \rProgress: 49.4%  words/sec/thread: 4923010  lr: 0.050565  loss: 0.986222  eta: 0h0m \rProgress: 49.8%  words/sec/thread: 4933936  lr: 0.050246  loss: 0.982760  eta: 0h0m \rProgress: 49.9%  words/sec/thread: 4945518  lr: 0.050061  loss: 0.981572  eta: 0h0m \rProgress: 50.1%  words/sec/thread: 4961124  lr: 0.049884  loss: 0.982126  eta: 0h0m \rProgress: 50.4%  words/sec/thread: 4967973  lr: 0.049581  loss: 0.979288  eta: 0h0m \rProgress: 50.6%  words/sec/thread: 4982936  lr: 0.049400  loss: 0.976271  eta: 0h0m \rProgress: 50.9%  words/sec/thread: 4992212  lr: 0.049106  loss: 0.971122  eta: 0h0m \rProgress: 51.0%  words/sec/thread: 4865904  lr: 0.049014  loss: 0.965389  eta: 0h0m \rProgress: 51.1%  words/sec/thread: 4871021  lr: 0.048859  loss: 0.962633  eta: 0h0m \rProgress: 51.2%  words/sec/thread: 4880162  lr: 0.048772  loss: 0.959907  eta: 0h0m \rProgress: 51.5%  words/sec/thread: 4911715  lr: 0.048545  loss: 0.954183  eta: 0h0m \rProgress: 52.0%  words/sec/thread: 4924461  lr: 0.047981  loss: 0.951037  eta: 0h0m \rProgress: 52.3%  words/sec/thread: 4928744  lr: 0.047729  loss: 0.949156  eta: 0h0m \rProgress: 52.3%  words/sec/thread: 4926164  lr: 0.047694  loss: 0.949084  eta: 0h0m \rProgress: 52.3%  words/sec/thread: 4922654  lr: 0.047652  loss: 0.946258  eta: 0h0m \rProgress: 66.5%  words/sec/thread: 5040791  lr: 0.033472  loss: 0.939700  eta: 0h0m \rProgress: 66.8%  words/sec/thread: 5048542  lr: 0.033194  loss: 0.932816  eta: 0h0m \rProgress: 67.0%  words/sec/thread: 5053592  lr: 0.032991  loss: 0.929854  eta: 0h0m \rProgress: 67.1%  words/sec/thread: 5060296  lr: 0.032887  loss: 0.926572  eta: 0h0m \rProgress: 67.3%  words/sec/thread: 5066671  lr: 0.032699  loss: 0.920379  eta: 0h0m \rProgress: 67.4%  words/sec/thread: 5064246  lr: 0.032612  loss: 0.920237  eta: 0h0m \rProgress: 67.4%  words/sec/thread: 5079400  lr: 0.032582  loss: 0.921220  eta: 0h0m \rProgress: 67.8%  words/sec/thread: 5084324  lr: 0.032210  loss: 0.913115  eta: 0h0m \rProgress: 67.9%  words/sec/thread: 5087703  lr: 0.032077  loss: 0.915305  eta: 0h0m \rProgress: 68.1%  words/sec/thread: 5099362  lr: 0.031926  loss: 0.912544  eta: 0h0m \rProgress: 68.3%  words/sec/thread: 5102048  lr: 0.031748  loss: 0.909955  eta: 0h0m \rProgress: 68.4%  words/sec/thread: 5109242  lr: 0.031629  loss: 0.913004  eta: 0h0m \rProgress: 68.6%  words/sec/thread: 5115864  lr: 0.031412  loss: 0.912858  eta: 0h0m \rProgress: 68.7%  words/sec/thread: 5020439  lr: 0.031303  loss: 0.907914  eta: 0h0m \rProgress: 68.9%  words/sec/thread: 5032128  lr: 0.031080  loss: 0.911032  eta: 0h0m \rProgress: 69.2%  words/sec/thread: 5038710  lr: 0.030798  loss: 0.905668  eta: 0h0m \rProgress: 69.4%  words/sec/thread: 5040266  lr: 0.030633  loss: 0.899970  eta: 0h0m \rProgress: 69.7%  words/sec/thread: 5054766  lr: 0.030289  loss: 0.894218  eta: 0h0m \rProgress: 69.7%  words/sec/thread: 5059892  lr: 0.030257  loss: 0.891522  eta: 0h0m \rProgress: 70.0%  words/sec/thread: 5063300  lr: 0.030041  loss: 0.891013  eta: 0h0m \rProgress: 70.1%  words/sec/thread: 5075342  lr: 0.029887  loss: 0.895981  eta: 0h0m \rProgress: 70.3%  words/sec/thread: 5078126  lr: 0.029675  loss: 0.893223  eta: 0h0m \rProgress: 70.5%  words/sec/thread: 5109276  lr: 0.029520  loss: 0.890311  eta: 0h0m \rProgress: 84.0%  words/sec/thread: 5115322  lr: 0.016029  loss: 0.885377  eta: 0h0m \rProgress: 84.1%  words/sec/thread: 5119848  lr: 0.015879  loss: 0.881284  eta: 0h0m \rProgress: 84.2%  words/sec/thread: 5120269  lr: 0.015803  loss: 0.878858  eta: 0h0m \rProgress: 84.3%  words/sec/thread: 5124912  lr: 0.015650  loss: 0.871302  eta: 0h0m \rProgress: 84.5%  words/sec/thread: 5131656  lr: 0.015466  loss: 0.868806  eta: 0h0m \rProgress: 84.7%  words/sec/thread: 5138540  lr: 0.015298  loss: 0.866744  eta: 0h0m \rProgress: 84.8%  words/sec/thread: 5143218  lr: 0.015200  loss: 0.861277  eta: 0h0m \rProgress: 85.0%  words/sec/thread: 5151875  lr: 0.015006  loss: 0.858958  eta: 0h0m \rProgress: 85.3%  words/sec/thread: 5156882  lr: 0.014697  loss: 0.854240  eta: 0h0m \rProgress: 85.4%  words/sec/thread: 5171282  lr: 0.014597  loss: 0.855095  eta: 0h0m \rProgress: 85.9%  words/sec/thread: 5171960  lr: 0.014106  loss: 0.849735  eta: 0h0m \rProgress: 86.1%  words/sec/thread: 5179482  lr: 0.013911  loss: 0.847633  eta: 0h0m \rProgress: 86.2%  words/sec/thread: 5105652  lr: 0.013816  loss: 0.842748  eta: 0h0m \rProgress: 86.4%  words/sec/thread: 5110126  lr: 0.013567  loss: 0.840257  eta: 0h0m \rProgress: 86.6%  words/sec/thread: 5111684  lr: 0.013393  loss: 0.836269  eta: 0h0m \rProgress: 86.7%  words/sec/thread: 5116860  lr: 0.013301  loss: 0.834540  eta: 0h0m \rProgress: 86.8%  words/sec/thread: 5124153  lr: 0.013158  loss: 0.837834  eta: 0h0m \rProgress: 87.0%  words/sec/thread: 5143456  lr: 0.012964  loss: 0.835791  eta: 0h0m \rProgress: 87.7%  words/sec/thread: 5149393  lr: 0.012253  loss: 0.836844  eta: 0h0m \rProgress: 88.0%  words/sec/thread: 5153802  lr: 0.012045  loss: 0.830611  eta: 0h0m \rProgress: 88.1%  words/sec/thread: 5158342  lr: 0.011941  loss: 0.828233  eta: 0h0m \rProgress: 88.1%  words/sec/thread: 5156270  lr: 0.011872  loss: 0.823891  eta: 0h0m \rProgress: 88.4%  words/sec/thread: 5169806  lr: 0.011608  loss: 0.827561  eta: 0h0m \rProgress: 88.6%  words/sec/thread: 5087616  lr: 0.011418  loss: 0.828676  eta: 0h0m \rProgress: 88.8%  words/sec/thread: 5100064  lr: 0.011203  loss: 0.826604  eta: 0h0m \rProgress: 89.0%  words/sec/thread: 5101966  lr: 0.010997  loss: 0.827894  eta: 0h0m \rProgress: 89.2%  words/sec/thread: 5107452  lr: 0.010801  loss: 0.827959  eta: 0h0m \rProgress: 89.4%  words/sec/thread: 5111865  lr: 0.010631  loss: 0.826517  eta: 0h0m \rProgress: 89.5%  words/sec/thread: 5118368  lr: 0.010523  loss: 0.827544  eta: 0h0m \rProgress: 89.7%  words/sec/thread: 5118882  lr: 0.010347  loss: 0.830578  eta: 0h0m \rProgress: 89.9%  words/sec/thread: 5125409  lr: 0.010149  loss: 0.828529  eta: 0h0m \rProgress: 89.9%  words/sec/thread: 5133686  lr: 0.010092  loss: 0.826698  eta: 0h0m \rProgress: 90.3%  words/sec/thread: 5142142  lr: 0.009674  loss: 0.829892  eta: 0h0m \rProgress: 90.5%  words/sec/thread: 5155022  lr: 0.009525  loss: 0.830243  eta: 0h0m \rProgress: 90.8%  words/sec/thread: 5083924  lr: 0.009162  loss: 0.828330  eta: 0h0m \rProgress: 91.2%  words/sec/thread: 5095608  lr: 0.008777  loss: 0.831041  eta: 0h0m \rProgress: 91.7%  words/sec/thread: 5100156  lr: 0.008342  loss: 0.829773  eta: 0h0m \rProgress: 91.8%  words/sec/thread: 5102026  lr: 0.008206  loss: 0.826098  eta: 0h0m \rProgress: 100.0%  words/sec/thread: 5122692  lr: 0.000000  loss: 0.826098  eta: 0h0m \n",
            "CPU times: user 5.44 ms, sys: 6.07 ms, total: 11.5 ms\n",
            "Wall time: 517 ms\n"
          ],
          "name": "stdout"
        }
      ]
    },
    {
      "cell_type": "code",
      "metadata": {
        "id": "pW2tPtQCZrmG",
        "outputId": "587186bd-96c8-4a7d-ffe1-12c16fca9325",
        "colab": {
          "base_uri": "https://localhost:8080/",
          "height": 89
        }
      },
      "source": [
        "!./fasttext test model_yelp_reviews.bin \"yelp_reviews_test_clean.txt\""
      ],
      "execution_count": null,
      "outputs": [
        {
          "output_type": "stream",
          "text": [
            "N\t493\n",
            "P@1\t0.748\n",
            "R@1\t0.748\n",
            "Number of examples: 493\n"
          ],
          "name": "stdout"
        }
      ]
    },
    {
      "cell_type": "code",
      "metadata": {
        "id": "nykb7_7HZ2oW",
        "outputId": "6458ec28-80f1-452a-9e89-505d0a995185",
        "colab": {
          "base_uri": "https://localhost:8080/",
          "height": 125
        }
      },
      "source": [
        "%%time\n",
        "!./fasttext supervised -input \"yelp_reviews_train_clean.txt\" -output model_yelp_reviews -epoch 30 -lr 0.5"
      ],
      "execution_count": null,
      "outputs": [
        {
          "output_type": "stream",
          "text": [
            "\rRead 0M words\n",
            "Number of words:  7149\n",
            "Number of labels: 3\n",
            "Progress: 100.0%  words/sec/thread: 5285820  lr: 0.000000  loss: 0.227681  eta: 0h0m \n",
            "CPU times: user 6.66 ms, sys: 9.02 ms, total: 15.7 ms\n",
            "Wall time: 727 ms\n"
          ],
          "name": "stdout"
        }
      ]
    }
  ]
}